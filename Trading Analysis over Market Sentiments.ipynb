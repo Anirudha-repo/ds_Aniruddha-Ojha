{
  "nbformat": 4,
  "nbformat_minor": 0,
  "metadata": {
    "colab": {
      "provenance": []
    },
    "kernelspec": {
      "name": "python3",
      "display_name": "Python 3"
    },
    "language_info": {
      "name": "python"
    }
  },
  "cells": [
    {
      "cell_type": "markdown",
      "source": [
        "### Importing Necessary Libraries"
      ],
      "metadata": {
        "id": "87FMmtIVsJh_"
      }
    },
    {
      "cell_type": "code",
      "execution_count": 63,
      "metadata": {
        "id": "7lvOyqB5rvtz"
      },
      "outputs": [],
      "source": [
        "import pandas as pd\n",
        "import numpy as np\n",
        "import matplotlib.pyplot as plt\n",
        "import seaborn as sns\n",
        "import os\n",
        "import shutil # Exporting Root Directory"
      ]
    },
    {
      "cell_type": "markdown",
      "source": [
        "### Creating Root Directory"
      ],
      "metadata": {
        "id": "r3ZHdjsn1jZH"
      }
    },
    {
      "cell_type": "code",
      "source": [
        "# Defining directories\n",
        "candidate_name = 'Aniruddha_Ojha'\n",
        "root_dir = f'ds_{candidate_name}'\n",
        "csv_dir = f'{root_dir}/csv_files'\n",
        "output_dir = f'{root_dir}/outputs'\n",
        "\n",
        "# Creating all required directories\n",
        "os.makedirs(csv_dir, exist_ok=True)\n",
        "os.makedirs(output_dir, exist_ok=True)\n",
        "\n",
        "print(f\"Root directory created: {root_dir}\")\n",
        "print(f\"CSV directory created: {csv_dir}\")\n",
        "print(f\"Output directory created: {output_dir}\")"
      ],
      "metadata": {
        "colab": {
          "base_uri": "https://localhost:8080/"
        },
        "id": "wymjhLfK1iM6",
        "outputId": "13f70e83-e6ae-4ac5-d1ea-6b31af418550"
      },
      "execution_count": 32,
      "outputs": [
        {
          "output_type": "stream",
          "name": "stdout",
          "text": [
            "Root directory created: ds_Aniruddha_Ojha\n",
            "CSV directory created: ds_Aniruddha_Ojha/csv_files\n",
            "Output directory created: ds_Aniruddha_Ojha/outputs\n"
          ]
        }
      ]
    },
    {
      "cell_type": "markdown",
      "source": [
        "### Loading the Datasets"
      ],
      "metadata": {
        "id": "h7hZD7IGsZbk"
      }
    },
    {
      "cell_type": "code",
      "source": [
        "#Loading datasets using Pandas\n",
        "df_sentiment = pd.read_csv('fear_greed_index.csv')\n",
        "df_historical = pd.read_csv('historical_data.csv')"
      ],
      "metadata": {
        "id": "klP2zAcgsfuY"
      },
      "execution_count": 33,
      "outputs": []
    },
    {
      "cell_type": "code",
      "source": [
        "df_sentiment.to_csv(os.path.join(csv_dir, 'fear_greed_index.csv'), index=False)\n",
        "df_historical.to_csv(os.path.join(csv_dir, 'historical_data.csv'), index=False)\n",
        "print(f\"Datasets saved to {csv_dir}\")"
      ],
      "metadata": {
        "colab": {
          "base_uri": "https://localhost:8080/"
        },
        "id": "4YTN4zX6QuxX",
        "outputId": "385fd343-892b-4bff-ab68-d3ff4eda65ca"
      },
      "execution_count": 34,
      "outputs": [
        {
          "output_type": "stream",
          "name": "stdout",
          "text": [
            "Datasets saved to ds_Aniruddha_Ojha/csv_files\n"
          ]
        }
      ]
    },
    {
      "cell_type": "code",
      "source": [
        "df_sentiment.head()"
      ],
      "metadata": {
        "colab": {
          "base_uri": "https://localhost:8080/",
          "height": 206
        },
        "id": "zYP0NCK1_kyj",
        "outputId": "36942d14-3fa5-43dc-e91a-29b34857384f"
      },
      "execution_count": 35,
      "outputs": [
        {
          "output_type": "execute_result",
          "data": {
            "text/plain": [
              "    timestamp  value classification        date\n",
              "0  1517463000     30           Fear  2018-02-01\n",
              "1  1517549400     15   Extreme Fear  2018-02-02\n",
              "2  1517635800     40           Fear  2018-02-03\n",
              "3  1517722200     24   Extreme Fear  2018-02-04\n",
              "4  1517808600     11   Extreme Fear  2018-02-05"
            ],
            "text/html": [
              "\n",
              "  <div id=\"df-72201cd7-6d45-431c-be92-a67e97d08bca\" class=\"colab-df-container\">\n",
              "    <div>\n",
              "<style scoped>\n",
              "    .dataframe tbody tr th:only-of-type {\n",
              "        vertical-align: middle;\n",
              "    }\n",
              "\n",
              "    .dataframe tbody tr th {\n",
              "        vertical-align: top;\n",
              "    }\n",
              "\n",
              "    .dataframe thead th {\n",
              "        text-align: right;\n",
              "    }\n",
              "</style>\n",
              "<table border=\"1\" class=\"dataframe\">\n",
              "  <thead>\n",
              "    <tr style=\"text-align: right;\">\n",
              "      <th></th>\n",
              "      <th>timestamp</th>\n",
              "      <th>value</th>\n",
              "      <th>classification</th>\n",
              "      <th>date</th>\n",
              "    </tr>\n",
              "  </thead>\n",
              "  <tbody>\n",
              "    <tr>\n",
              "      <th>0</th>\n",
              "      <td>1517463000</td>\n",
              "      <td>30</td>\n",
              "      <td>Fear</td>\n",
              "      <td>2018-02-01</td>\n",
              "    </tr>\n",
              "    <tr>\n",
              "      <th>1</th>\n",
              "      <td>1517549400</td>\n",
              "      <td>15</td>\n",
              "      <td>Extreme Fear</td>\n",
              "      <td>2018-02-02</td>\n",
              "    </tr>\n",
              "    <tr>\n",
              "      <th>2</th>\n",
              "      <td>1517635800</td>\n",
              "      <td>40</td>\n",
              "      <td>Fear</td>\n",
              "      <td>2018-02-03</td>\n",
              "    </tr>\n",
              "    <tr>\n",
              "      <th>3</th>\n",
              "      <td>1517722200</td>\n",
              "      <td>24</td>\n",
              "      <td>Extreme Fear</td>\n",
              "      <td>2018-02-04</td>\n",
              "    </tr>\n",
              "    <tr>\n",
              "      <th>4</th>\n",
              "      <td>1517808600</td>\n",
              "      <td>11</td>\n",
              "      <td>Extreme Fear</td>\n",
              "      <td>2018-02-05</td>\n",
              "    </tr>\n",
              "  </tbody>\n",
              "</table>\n",
              "</div>\n",
              "    <div class=\"colab-df-buttons\">\n",
              "\n",
              "  <div class=\"colab-df-container\">\n",
              "    <button class=\"colab-df-convert\" onclick=\"convertToInteractive('df-72201cd7-6d45-431c-be92-a67e97d08bca')\"\n",
              "            title=\"Convert this dataframe to an interactive table.\"\n",
              "            style=\"display:none;\">\n",
              "\n",
              "  <svg xmlns=\"http://www.w3.org/2000/svg\" height=\"24px\" viewBox=\"0 -960 960 960\">\n",
              "    <path d=\"M120-120v-720h720v720H120Zm60-500h600v-160H180v160Zm220 220h160v-160H400v160Zm0 220h160v-160H400v160ZM180-400h160v-160H180v160Zm440 0h160v-160H620v160ZM180-180h160v-160H180v160Zm440 0h160v-160H620v160Z\"/>\n",
              "  </svg>\n",
              "    </button>\n",
              "\n",
              "  <style>\n",
              "    .colab-df-container {\n",
              "      display:flex;\n",
              "      gap: 12px;\n",
              "    }\n",
              "\n",
              "    .colab-df-convert {\n",
              "      background-color: #E8F0FE;\n",
              "      border: none;\n",
              "      border-radius: 50%;\n",
              "      cursor: pointer;\n",
              "      display: none;\n",
              "      fill: #1967D2;\n",
              "      height: 32px;\n",
              "      padding: 0 0 0 0;\n",
              "      width: 32px;\n",
              "    }\n",
              "\n",
              "    .colab-df-convert:hover {\n",
              "      background-color: #E2EBFA;\n",
              "      box-shadow: 0px 1px 2px rgba(60, 64, 67, 0.3), 0px 1px 3px 1px rgba(60, 64, 67, 0.15);\n",
              "      fill: #174EA6;\n",
              "    }\n",
              "\n",
              "    .colab-df-buttons div {\n",
              "      margin-bottom: 4px;\n",
              "    }\n",
              "\n",
              "    [theme=dark] .colab-df-convert {\n",
              "      background-color: #3B4455;\n",
              "      fill: #D2E3FC;\n",
              "    }\n",
              "\n",
              "    [theme=dark] .colab-df-convert:hover {\n",
              "      background-color: #434B5C;\n",
              "      box-shadow: 0px 1px 3px 1px rgba(0, 0, 0, 0.15);\n",
              "      filter: drop-shadow(0px 1px 2px rgba(0, 0, 0, 0.3));\n",
              "      fill: #FFFFFF;\n",
              "    }\n",
              "  </style>\n",
              "\n",
              "    <script>\n",
              "      const buttonEl =\n",
              "        document.querySelector('#df-72201cd7-6d45-431c-be92-a67e97d08bca button.colab-df-convert');\n",
              "      buttonEl.style.display =\n",
              "        google.colab.kernel.accessAllowed ? 'block' : 'none';\n",
              "\n",
              "      async function convertToInteractive(key) {\n",
              "        const element = document.querySelector('#df-72201cd7-6d45-431c-be92-a67e97d08bca');\n",
              "        const dataTable =\n",
              "          await google.colab.kernel.invokeFunction('convertToInteractive',\n",
              "                                                    [key], {});\n",
              "        if (!dataTable) return;\n",
              "\n",
              "        const docLinkHtml = 'Like what you see? Visit the ' +\n",
              "          '<a target=\"_blank\" href=https://colab.research.google.com/notebooks/data_table.ipynb>data table notebook</a>'\n",
              "          + ' to learn more about interactive tables.';\n",
              "        element.innerHTML = '';\n",
              "        dataTable['output_type'] = 'display_data';\n",
              "        await google.colab.output.renderOutput(dataTable, element);\n",
              "        const docLink = document.createElement('div');\n",
              "        docLink.innerHTML = docLinkHtml;\n",
              "        element.appendChild(docLink);\n",
              "      }\n",
              "    </script>\n",
              "  </div>\n",
              "\n",
              "\n",
              "    <div id=\"df-18b84518-a1a8-45de-a497-5ac7fd84ddfd\">\n",
              "      <button class=\"colab-df-quickchart\" onclick=\"quickchart('df-18b84518-a1a8-45de-a497-5ac7fd84ddfd')\"\n",
              "                title=\"Suggest charts\"\n",
              "                style=\"display:none;\">\n",
              "\n",
              "<svg xmlns=\"http://www.w3.org/2000/svg\" height=\"24px\"viewBox=\"0 0 24 24\"\n",
              "     width=\"24px\">\n",
              "    <g>\n",
              "        <path d=\"M19 3H5c-1.1 0-2 .9-2 2v14c0 1.1.9 2 2 2h14c1.1 0 2-.9 2-2V5c0-1.1-.9-2-2-2zM9 17H7v-7h2v7zm4 0h-2V7h2v10zm4 0h-2v-4h2v4z\"/>\n",
              "    </g>\n",
              "</svg>\n",
              "      </button>\n",
              "\n",
              "<style>\n",
              "  .colab-df-quickchart {\n",
              "      --bg-color: #E8F0FE;\n",
              "      --fill-color: #1967D2;\n",
              "      --hover-bg-color: #E2EBFA;\n",
              "      --hover-fill-color: #174EA6;\n",
              "      --disabled-fill-color: #AAA;\n",
              "      --disabled-bg-color: #DDD;\n",
              "  }\n",
              "\n",
              "  [theme=dark] .colab-df-quickchart {\n",
              "      --bg-color: #3B4455;\n",
              "      --fill-color: #D2E3FC;\n",
              "      --hover-bg-color: #434B5C;\n",
              "      --hover-fill-color: #FFFFFF;\n",
              "      --disabled-bg-color: #3B4455;\n",
              "      --disabled-fill-color: #666;\n",
              "  }\n",
              "\n",
              "  .colab-df-quickchart {\n",
              "    background-color: var(--bg-color);\n",
              "    border: none;\n",
              "    border-radius: 50%;\n",
              "    cursor: pointer;\n",
              "    display: none;\n",
              "    fill: var(--fill-color);\n",
              "    height: 32px;\n",
              "    padding: 0;\n",
              "    width: 32px;\n",
              "  }\n",
              "\n",
              "  .colab-df-quickchart:hover {\n",
              "    background-color: var(--hover-bg-color);\n",
              "    box-shadow: 0 1px 2px rgba(60, 64, 67, 0.3), 0 1px 3px 1px rgba(60, 64, 67, 0.15);\n",
              "    fill: var(--button-hover-fill-color);\n",
              "  }\n",
              "\n",
              "  .colab-df-quickchart-complete:disabled,\n",
              "  .colab-df-quickchart-complete:disabled:hover {\n",
              "    background-color: var(--disabled-bg-color);\n",
              "    fill: var(--disabled-fill-color);\n",
              "    box-shadow: none;\n",
              "  }\n",
              "\n",
              "  .colab-df-spinner {\n",
              "    border: 2px solid var(--fill-color);\n",
              "    border-color: transparent;\n",
              "    border-bottom-color: var(--fill-color);\n",
              "    animation:\n",
              "      spin 1s steps(1) infinite;\n",
              "  }\n",
              "\n",
              "  @keyframes spin {\n",
              "    0% {\n",
              "      border-color: transparent;\n",
              "      border-bottom-color: var(--fill-color);\n",
              "      border-left-color: var(--fill-color);\n",
              "    }\n",
              "    20% {\n",
              "      border-color: transparent;\n",
              "      border-left-color: var(--fill-color);\n",
              "      border-top-color: var(--fill-color);\n",
              "    }\n",
              "    30% {\n",
              "      border-color: transparent;\n",
              "      border-left-color: var(--fill-color);\n",
              "      border-top-color: var(--fill-color);\n",
              "      border-right-color: var(--fill-color);\n",
              "    }\n",
              "    40% {\n",
              "      border-color: transparent;\n",
              "      border-right-color: var(--fill-color);\n",
              "      border-top-color: var(--fill-color);\n",
              "    }\n",
              "    60% {\n",
              "      border-color: transparent;\n",
              "      border-right-color: var(--fill-color);\n",
              "    }\n",
              "    80% {\n",
              "      border-color: transparent;\n",
              "      border-right-color: var(--fill-color);\n",
              "      border-bottom-color: var(--fill-color);\n",
              "    }\n",
              "    90% {\n",
              "      border-color: transparent;\n",
              "      border-bottom-color: var(--fill-color);\n",
              "    }\n",
              "  }\n",
              "</style>\n",
              "\n",
              "      <script>\n",
              "        async function quickchart(key) {\n",
              "          const quickchartButtonEl =\n",
              "            document.querySelector('#' + key + ' button');\n",
              "          quickchartButtonEl.disabled = true;  // To prevent multiple clicks.\n",
              "          quickchartButtonEl.classList.add('colab-df-spinner');\n",
              "          try {\n",
              "            const charts = await google.colab.kernel.invokeFunction(\n",
              "                'suggestCharts', [key], {});\n",
              "          } catch (error) {\n",
              "            console.error('Error during call to suggestCharts:', error);\n",
              "          }\n",
              "          quickchartButtonEl.classList.remove('colab-df-spinner');\n",
              "          quickchartButtonEl.classList.add('colab-df-quickchart-complete');\n",
              "        }\n",
              "        (() => {\n",
              "          let quickchartButtonEl =\n",
              "            document.querySelector('#df-18b84518-a1a8-45de-a497-5ac7fd84ddfd button');\n",
              "          quickchartButtonEl.style.display =\n",
              "            google.colab.kernel.accessAllowed ? 'block' : 'none';\n",
              "        })();\n",
              "      </script>\n",
              "    </div>\n",
              "\n",
              "    </div>\n",
              "  </div>\n"
            ],
            "application/vnd.google.colaboratory.intrinsic+json": {
              "type": "dataframe",
              "variable_name": "df_sentiment",
              "summary": "{\n  \"name\": \"df_sentiment\",\n  \"rows\": 2644,\n  \"fields\": [\n    {\n      \"column\": \"timestamp\",\n      \"properties\": {\n        \"dtype\": \"number\",\n        \"std\": 65979674,\n        \"min\": 1517463000,\n        \"max\": 1746163800,\n        \"num_unique_values\": 2644,\n        \"samples\": [\n          1594531800,\n          1613626200,\n          1630819800\n        ],\n        \"semantic_type\": \"\",\n        \"description\": \"\"\n      }\n    },\n    {\n      \"column\": \"value\",\n      \"properties\": {\n        \"dtype\": \"number\",\n        \"std\": 21,\n        \"min\": 5,\n        \"max\": 95,\n        \"num_unique_values\": 90,\n        \"samples\": [\n          61,\n          47,\n          65\n        ],\n        \"semantic_type\": \"\",\n        \"description\": \"\"\n      }\n    },\n    {\n      \"column\": \"classification\",\n      \"properties\": {\n        \"dtype\": \"category\",\n        \"num_unique_values\": 5,\n        \"samples\": [\n          \"Extreme Fear\",\n          \"Extreme Greed\",\n          \"Neutral\"\n        ],\n        \"semantic_type\": \"\",\n        \"description\": \"\"\n      }\n    },\n    {\n      \"column\": \"date\",\n      \"properties\": {\n        \"dtype\": \"object\",\n        \"num_unique_values\": 2644,\n        \"samples\": [\n          \"2020-07-12\",\n          \"2021-02-18\",\n          \"2021-09-05\"\n        ],\n        \"semantic_type\": \"\",\n        \"description\": \"\"\n      }\n    }\n  ]\n}"
            }
          },
          "metadata": {},
          "execution_count": 35
        }
      ]
    },
    {
      "source": [
        "# Visualizing Classification in Market Sentiment\n",
        "df_sentiment.groupby('classification').size().plot(kind='barh', color=sns.palettes.mpl_palette('Dark2'))\n",
        "plt.gca().spines[['top', 'right',]].set_visible(False)"
      ],
      "cell_type": "code",
      "execution_count": 36,
      "outputs": [
        {
          "output_type": "display_data",
          "data": {
            "text/plain": [
              "<Figure size 640x480 with 1 Axes>"
            ],
            "image/png": "[encoded data removed]"
          },
          "metadata": {}
        }
      ],
      "metadata": {
        "colab": {
          "base_uri": "https://localhost:8080/",
          "height": 430
        },
        "id": "tP5aZB6ZMn_A",
        "outputId": "9a7eb980-d2ef-45ec-b8fa-fddda375c2f5"
      }
    },
    {
      "cell_type": "code",
      "source": [
        "df_historical.head()"
      ],
      "metadata": {
        "colab": {
          "base_uri": "https://localhost:8080/",
          "height": 417
        },
        "id": "6mSZ9tjn_yc3",
        "outputId": "e8e4fa18-b1fc-480c-ed90-f5a20b7bd402"
      },
      "execution_count": 37,
      "outputs": [
        {
          "output_type": "execute_result",
          "data": {
            "text/plain": [
              "                                      Account  Coin  Execution Price  \\\n",
              "0  0xae5eacaf9c6b9111fd53034a602c192a04e082ed  @107           7.9769   \n",
              "1  0xae5eacaf9c6b9111fd53034a602c192a04e082ed  @107           7.9800   \n",
              "2  0xae5eacaf9c6b9111fd53034a602c192a04e082ed  @107           7.9855   \n",
              "3  0xae5eacaf9c6b9111fd53034a602c192a04e082ed  @107           7.9874   \n",
              "4  0xae5eacaf9c6b9111fd53034a602c192a04e082ed  @107           7.9894   \n",
              "\n",
              "   Size Tokens  Size USD Side     Timestamp IST  Start Position Direction  \\\n",
              "0       986.87   7872.16  BUY  02-12-2024 22:50        0.000000       Buy   \n",
              "1        16.00    127.68  BUY  02-12-2024 22:50      986.524596       Buy   \n",
              "2       144.09   1150.63  BUY  02-12-2024 22:50     1002.518996       Buy   \n",
              "3       142.98   1142.04  BUY  02-12-2024 22:50     1146.558564       Buy   \n",
              "4         8.73     69.75  BUY  02-12-2024 22:50     1289.488521       Buy   \n",
              "\n",
              "   Closed PnL                                   Transaction Hash     Order ID  \\\n",
              "0         0.0  0xec09451986a1874e3a980418412fcd0201f500c95bac...  52017706630   \n",
              "1         0.0  0xec09451986a1874e3a980418412fcd0201f500c95bac...  52017706630   \n",
              "2         0.0  0xec09451986a1874e3a980418412fcd0201f500c95bac...  52017706630   \n",
              "3         0.0  0xec09451986a1874e3a980418412fcd0201f500c95bac...  52017706630   \n",
              "4         0.0  0xec09451986a1874e3a980418412fcd0201f500c95bac...  52017706630   \n",
              "\n",
              "   Crossed       Fee      Trade ID     Timestamp  \n",
              "0     True  0.345404  8.950000e+14  1.730000e+12  \n",
              "1     True  0.005600  4.430000e+14  1.730000e+12  \n",
              "2     True  0.050431  6.600000e+14  1.730000e+12  \n",
              "3     True  0.050043  1.080000e+15  1.730000e+12  \n",
              "4     True  0.003055  1.050000e+15  1.730000e+12  "
            ],
            "text/html": [
              "\n",
              "  <div id=\"df-ced12db4-dfc7-4857-94a0-c7a146bcc683\" class=\"colab-df-container\">\n",
              "    <div>\n",
              "<style scoped>\n",
              "    .dataframe tbody tr th:only-of-type {\n",
              "        vertical-align: middle;\n",
              "    }\n",
              "\n",
              "    .dataframe tbody tr th {\n",
              "        vertical-align: top;\n",
              "    }\n",
              "\n",
              "    .dataframe thead th {\n",
              "        text-align: right;\n",
              "    }\n",
              "</style>\n",
              "<table border=\"1\" class=\"dataframe\">\n",
              "  <thead>\n",
              "    <tr style=\"text-align: right;\">\n",
              "      <th></th>\n",
              "      <th>Account</th>\n",
              "      <th>Coin</th>\n",
              "      <th>Execution Price</th>\n",
              "      <th>Size Tokens</th>\n",
              "      <th>Size USD</th>\n",
              "      <th>Side</th>\n",
              "      <th>Timestamp IST</th>\n",
              "      <th>Start Position</th>\n",
              "      <th>Direction</th>\n",
              "      <th>Closed PnL</th>\n",
              "      <th>Transaction Hash</th>\n",
              "      <th>Order ID</th>\n",
              "      <th>Crossed</th>\n",
              "      <th>Fee</th>\n",
              "      <th>Trade ID</th>\n",
              "      <th>Timestamp</th>\n",
              "    </tr>\n",
              "  </thead>\n",
              "  <tbody>\n",
              "    <tr>\n",
              "      <th>0</th>\n",
              "      <td>0xae5eacaf9c6b9111fd53034a602c192a04e082ed</td>\n",
              "      <td>@107</td>\n",
              "      <td>7.9769</td>\n",
              "      <td>986.87</td>\n",
              "      <td>7872.16</td>\n",
              "      <td>BUY</td>\n",
              "      <td>02-12-2024 22:50</td>\n",
              "      <td>0.000000</td>\n",
              "      <td>Buy</td>\n",
              "      <td>0.0</td>\n",
              "      <td>0xec09451986a1874e3a980418412fcd0201f500c95bac...</td>\n",
              "      <td>52017706630</td>\n",
              "      <td>True</td>\n",
              "      <td>0.345404</td>\n",
              "      <td>8.950000e+14</td>\n",
              "      <td>1.730000e+12</td>\n",
              "    </tr>\n",
              "    <tr>\n",
              "      <th>1</th>\n",
              "      <td>0xae5eacaf9c6b9111fd53034a602c192a04e082ed</td>\n",
              "      <td>@107</td>\n",
              "      <td>7.9800</td>\n",
              "      <td>16.00</td>\n",
              "      <td>127.68</td>\n",
              "      <td>BUY</td>\n",
              "      <td>02-12-2024 22:50</td>\n",
              "      <td>986.524596</td>\n",
              "      <td>Buy</td>\n",
              "      <td>0.0</td>\n",
              "      <td>0xec09451986a1874e3a980418412fcd0201f500c95bac...</td>\n",
              "      <td>52017706630</td>\n",
              "      <td>True</td>\n",
              "      <td>0.005600</td>\n",
              "      <td>4.430000e+14</td>\n",
              "      <td>1.730000e+12</td>\n",
              "    </tr>\n",
              "    <tr>\n",
              "      <th>2</th>\n",
              "      <td>0xae5eacaf9c6b9111fd53034a602c192a04e082ed</td>\n",
              "      <td>@107</td>\n",
              "      <td>7.9855</td>\n",
              "      <td>144.09</td>\n",
              "      <td>1150.63</td>\n",
              "      <td>BUY</td>\n",
              "      <td>02-12-2024 22:50</td>\n",
              "      <td>1002.518996</td>\n",
              "      <td>Buy</td>\n",
              "      <td>0.0</td>\n",
              "      <td>0xec09451986a1874e3a980418412fcd0201f500c95bac...</td>\n",
              "      <td>52017706630</td>\n",
              "      <td>True</td>\n",
              "      <td>0.050431</td>\n",
              "      <td>6.600000e+14</td>\n",
              "      <td>1.730000e+12</td>\n",
              "    </tr>\n",
              "    <tr>\n",
              "      <th>3</th>\n",
              "      <td>0xae5eacaf9c6b9111fd53034a602c192a04e082ed</td>\n",
              "      <td>@107</td>\n",
              "      <td>7.9874</td>\n",
              "      <td>142.98</td>\n",
              "      <td>1142.04</td>\n",
              "      <td>BUY</td>\n",
              "      <td>02-12-2024 22:50</td>\n",
              "      <td>1146.558564</td>\n",
              "      <td>Buy</td>\n",
              "      <td>0.0</td>\n",
              "      <td>0xec09451986a1874e3a980418412fcd0201f500c95bac...</td>\n",
              "      <td>52017706630</td>\n",
              "      <td>True</td>\n",
              "      <td>0.050043</td>\n",
              "      <td>1.080000e+15</td>\n",
              "      <td>1.730000e+12</td>\n",
              "    </tr>\n",
              "    <tr>\n",
              "      <th>4</th>\n",
              "      <td>0xae5eacaf9c6b9111fd53034a602c192a04e082ed</td>\n",
              "      <td>@107</td>\n",
              "      <td>7.9894</td>\n",
              "      <td>8.73</td>\n",
              "      <td>69.75</td>\n",
              "      <td>BUY</td>\n",
              "      <td>02-12-2024 22:50</td>\n",
              "      <td>1289.488521</td>\n",
              "      <td>Buy</td>\n",
              "      <td>0.0</td>\n",
              "      <td>0xec09451986a1874e3a980418412fcd0201f500c95bac...</td>\n",
              "      <td>52017706630</td>\n",
              "      <td>True</td>\n",
              "      <td>0.003055</td>\n",
              "      <td>1.050000e+15</td>\n",
              "      <td>1.730000e+12</td>\n",
              "    </tr>\n",
              "  </tbody>\n",
              "</table>\n",
              "</div>\n",
              "    <div class=\"colab-df-buttons\">\n",
              "\n",
              "  <div class=\"colab-df-container\">\n",
              "    <button class=\"colab-df-convert\" onclick=\"convertToInteractive('df-ced12db4-dfc7-4857-94a0-c7a146bcc683')\"\n",
              "            title=\"Convert this dataframe to an interactive table.\"\n",
              "            style=\"display:none;\">\n",
              "\n",
              "  <svg xmlns=\"http://www.w3.org/2000/svg\" height=\"24px\" viewBox=\"0 -960 960 960\">\n",
              "    <path d=\"M120-120v-720h720v720H120Zm60-500h600v-160H180v160Zm220 220h160v-160H400v160Zm0 220h160v-160H400v160ZM180-400h160v-160H180v160Zm440 0h160v-160H620v160ZM180-180h160v-160H180v160Zm440 0h160v-160H620v160Z\"/>\n",
              "  </svg>\n",
              "    </button>\n",
              "\n",
              "  <style>\n",
              "    .colab-df-container {\n",
              "      display:flex;\n",
              "      gap: 12px;\n",
              "    }\n",
              "\n",
              "    .colab-df-convert {\n",
              "      background-color: #E8F0FE;\n",
              "      border: none;\n",
              "      border-radius: 50%;\n",
              "      cursor: pointer;\n",
              "      display: none;\n",
              "      fill: #1967D2;\n",
              "      height: 32px;\n",
              "      padding: 0 0 0 0;\n",
              "      width: 32px;\n",
              "    }\n",
              "\n",
              "    .colab-df-convert:hover {\n",
              "      background-color: #E2EBFA;\n",
              "      box-shadow: 0px 1px 2px rgba(60, 64, 67, 0.3), 0px 1px 3px 1px rgba(60, 64, 67, 0.15);\n",
              "      fill: #174EA6;\n",
              "    }\n",
              "\n",
              "    .colab-df-buttons div {\n",
              "      margin-bottom: 4px;\n",
              "    }\n",
              "\n",
              "    [theme=dark] .colab-df-convert {\n",
              "      background-color: #3B4455;\n",
              "      fill: #D2E3FC;\n",
              "    }\n",
              "\n",
              "    [theme=dark] .colab-df-convert:hover {\n",
              "      background-color: #434B5C;\n",
              "      box-shadow: 0px 1px 3px 1px rgba(0, 0, 0, 0.15);\n",
              "      filter: drop-shadow(0px 1px 2px rgba(0, 0, 0, 0.3));\n",
              "      fill: #FFFFFF;\n",
              "    }\n",
              "  </style>\n",
              "\n",
              "    <script>\n",
              "      const buttonEl =\n",
              "        document.querySelector('#df-ced12db4-dfc7-4857-94a0-c7a146bcc683 button.colab-df-convert');\n",
              "      buttonEl.style.display =\n",
              "        google.colab.kernel.accessAllowed ? 'block' : 'none';\n",
              "\n",
              "      async function convertToInteractive(key) {\n",
              "        const element = document.querySelector('#df-ced12db4-dfc7-4857-94a0-c7a146bcc683');\n",
              "        const dataTable =\n",
              "          await google.colab.kernel.invokeFunction('convertToInteractive',\n",
              "                                                    [key], {});\n",
              "        if (!dataTable) return;\n",
              "\n",
              "        const docLinkHtml = 'Like what you see? Visit the ' +\n",
              "          '<a target=\"_blank\" href=https://colab.research.google.com/notebooks/data_table.ipynb>data table notebook</a>'\n",
              "          + ' to learn more about interactive tables.';\n",
              "        element.innerHTML = '';\n",
              "        dataTable['output_type'] = 'display_data';\n",
              "        await google.colab.output.renderOutput(dataTable, element);\n",
              "        const docLink = document.createElement('div');\n",
              "        docLink.innerHTML = docLinkHtml;\n",
              "        element.appendChild(docLink);\n",
              "      }\n",
              "    </script>\n",
              "  </div>\n",
              "\n",
              "\n",
              "    <div id=\"df-e2232cc2-c4fc-4723-91f1-788ca9f39583\">\n",
              "      <button class=\"colab-df-quickchart\" onclick=\"quickchart('df-e2232cc2-c4fc-4723-91f1-788ca9f39583')\"\n",
              "                title=\"Suggest charts\"\n",
              "                style=\"display:none;\">\n",
              "\n",
              "<svg xmlns=\"http://www.w3.org/2000/svg\" height=\"24px\"viewBox=\"0 0 24 24\"\n",
              "     width=\"24px\">\n",
              "    <g>\n",
              "        <path d=\"M19 3H5c-1.1 0-2 .9-2 2v14c0 1.1.9 2 2 2h14c1.1 0 2-.9 2-2V5c0-1.1-.9-2-2-2zM9 17H7v-7h2v7zm4 0h-2V7h2v10zm4 0h-2v-4h2v4z\"/>\n",
              "    </g>\n",
              "</svg>\n",
              "      </button>\n",
              "\n",
              "<style>\n",
              "  .colab-df-quickchart {\n",
              "      --bg-color: #E8F0FE;\n",
              "      --fill-color: #1967D2;\n",
              "      --hover-bg-color: #E2EBFA;\n",
              "      --hover-fill-color: #174EA6;\n",
              "      --disabled-fill-color: #AAA;\n",
              "      --disabled-bg-color: #DDD;\n",
              "  }\n",
              "\n",
              "  [theme=dark] .colab-df-quickchart {\n",
              "      --bg-color: #3B4455;\n",
              "      --fill-color: #D2E3FC;\n",
              "      --hover-bg-color: #434B5C;\n",
              "      --hover-fill-color: #FFFFFF;\n",
              "      --disabled-bg-color: #3B4455;\n",
              "      --disabled-fill-color: #666;\n",
              "  }\n",
              "\n",
              "  .colab-df-quickchart {\n",
              "    background-color: var(--bg-color);\n",
              "    border: none;\n",
              "    border-radius: 50%;\n",
              "    cursor: pointer;\n",
              "    display: none;\n",
              "    fill: var(--fill-color);\n",
              "    height: 32px;\n",
              "    padding: 0;\n",
              "    width: 32px;\n",
              "  }\n",
              "\n",
              "  .colab-df-quickchart:hover {\n",
              "    background-color: var(--hover-bg-color);\n",
              "    box-shadow: 0 1px 2px rgba(60, 64, 67, 0.3), 0 1px 3px 1px rgba(60, 64, 67, 0.15);\n",
              "    fill: var(--button-hover-fill-color);\n",
              "  }\n",
              "\n",
              "  .colab-df-quickchart-complete:disabled,\n",
              "  .colab-df-quickchart-complete:disabled:hover {\n",
              "    background-color: var(--disabled-bg-color);\n",
              "    fill: var(--disabled-fill-color);\n",
              "    box-shadow: none;\n",
              "  }\n",
              "\n",
              "  .colab-df-spinner {\n",
              "    border: 2px solid var(--fill-color);\n",
              "    border-color: transparent;\n",
              "    border-bottom-color: var(--fill-color);\n",
              "    animation:\n",
              "      spin 1s steps(1) infinite;\n",
              "  }\n",
              "\n",
              "  @keyframes spin {\n",
              "    0% {\n",
              "      border-color: transparent;\n",
              "      border-bottom-color: var(--fill-color);\n",
              "      border-left-color: var(--fill-color);\n",
              "    }\n",
              "    20% {\n",
              "      border-color: transparent;\n",
              "      border-left-color: var(--fill-color);\n",
              "      border-top-color: var(--fill-color);\n",
              "    }\n",
              "    30% {\n",
              "      border-color: transparent;\n",
              "      border-left-color: var(--fill-color);\n",
              "      border-top-color: var(--fill-color);\n",
              "      border-right-color: var(--fill-color);\n",
              "    }\n",
              "    40% {\n",
              "      border-color: transparent;\n",
              "      border-right-color: var(--fill-color);\n",
              "      border-top-color: var(--fill-color);\n",
              "    }\n",
              "    60% {\n",
              "      border-color: transparent;\n",
              "      border-right-color: var(--fill-color);\n",
              "    }\n",
              "    80% {\n",
              "      border-color: transparent;\n",
              "      border-right-color: var(--fill-color);\n",
              "      border-bottom-color: var(--fill-color);\n",
              "    }\n",
              "    90% {\n",
              "      border-color: transparent;\n",
              "      border-bottom-color: var(--fill-color);\n",
              "    }\n",
              "  }\n",
              "</style>\n",
              "\n",
              "      <script>\n",
              "        async function quickchart(key) {\n",
              "          const quickchartButtonEl =\n",
              "            document.querySelector('#' + key + ' button');\n",
              "          quickchartButtonEl.disabled = true;  // To prevent multiple clicks.\n",
              "          quickchartButtonEl.classList.add('colab-df-spinner');\n",
              "          try {\n",
              "            const charts = await google.colab.kernel.invokeFunction(\n",
              "                'suggestCharts', [key], {});\n",
              "          } catch (error) {\n",
              "            console.error('Error during call to suggestCharts:', error);\n",
              "          }\n",
              "          quickchartButtonEl.classList.remove('colab-df-spinner');\n",
              "          quickchartButtonEl.classList.add('colab-df-quickchart-complete');\n",
              "        }\n",
              "        (() => {\n",
              "          let quickchartButtonEl =\n",
              "            document.querySelector('#df-e2232cc2-c4fc-4723-91f1-788ca9f39583 button');\n",
              "          quickchartButtonEl.style.display =\n",
              "            google.colab.kernel.accessAllowed ? 'block' : 'none';\n",
              "        })();\n",
              "      </script>\n",
              "    </div>\n",
              "\n",
              "    </div>\n",
              "  </div>\n"
            ],
            "application/vnd.google.colaboratory.intrinsic+json": {
              "type": "dataframe",
              "variable_name": "df_historical"
            }
          },
          "metadata": {},
          "execution_count": 37
        }
      ]
    },
    {
      "cell_type": "code",
      "source": [
        "# Checking for duplicate columns\n",
        "df_sentiment.drop_duplicates(subset=['date'], inplace=True)\n",
        "df_historical.drop_duplicates(inplace=True)\n",
        "\n",
        "# Forward filling missing sentiment values\n",
        "df_sentiment.ffill(inplace=True)\n",
        "df_historical.ffill(inplace=True)"
      ],
      "metadata": {
        "id": "XVnVW-uR_7H-"
      },
      "execution_count": 38,
      "outputs": []
    },
    {
      "cell_type": "code",
      "source": [
        "# Checking for Null Values\n",
        "df_sentiment.isnull().sum()"
      ],
      "metadata": {
        "colab": {
          "base_uri": "https://localhost:8080/",
          "height": 209
        },
        "id": "6K6CBu_kCCLx",
        "outputId": "c701fdda-c74d-49bf-a908-48e7ab5d4f0c"
      },
      "execution_count": 39,
      "outputs": [
        {
          "output_type": "execute_result",
          "data": {
            "text/plain": [
              "timestamp         0\n",
              "value             0\n",
              "classification    0\n",
              "date              0\n",
              "dtype: int64"
            ],
            "text/html": [
              "<div>\n",
              "<style scoped>\n",
              "    .dataframe tbody tr th:only-of-type {\n",
              "        vertical-align: middle;\n",
              "    }\n",
              "\n",
              "    .dataframe tbody tr th {\n",
              "        vertical-align: top;\n",
              "    }\n",
              "\n",
              "    .dataframe thead th {\n",
              "        text-align: right;\n",
              "    }\n",
              "</style>\n",
              "<table border=\"1\" class=\"dataframe\">\n",
              "  <thead>\n",
              "    <tr style=\"text-align: right;\">\n",
              "      <th></th>\n",
              "      <th>0</th>\n",
              "    </tr>\n",
              "  </thead>\n",
              "  <tbody>\n",
              "    <tr>\n",
              "      <th>timestamp</th>\n",
              "      <td>0</td>\n",
              "    </tr>\n",
              "    <tr>\n",
              "      <th>value</th>\n",
              "      <td>0</td>\n",
              "    </tr>\n",
              "    <tr>\n",
              "      <th>classification</th>\n",
              "      <td>0</td>\n",
              "    </tr>\n",
              "    <tr>\n",
              "      <th>date</th>\n",
              "      <td>0</td>\n",
              "    </tr>\n",
              "  </tbody>\n",
              "</table>\n",
              "</div><br><label><b>dtype:</b> int64</label>"
            ]
          },
          "metadata": {},
          "execution_count": 39
        }
      ]
    },
    {
      "cell_type": "code",
      "source": [
        "df_historical.isnull().sum()"
      ],
      "metadata": {
        "colab": {
          "base_uri": "https://localhost:8080/",
          "height": 585
        },
        "id": "AbZ8GNm2CQ_2",
        "outputId": "b3a9af08-5c63-4cc7-ff23-570e704d3729"
      },
      "execution_count": 40,
      "outputs": [
        {
          "output_type": "execute_result",
          "data": {
            "text/plain": [
              "Account             0\n",
              "Coin                0\n",
              "Execution Price     0\n",
              "Size Tokens         0\n",
              "Size USD            0\n",
              "Side                0\n",
              "Timestamp IST       0\n",
              "Start Position      0\n",
              "Direction           0\n",
              "Closed PnL          0\n",
              "Transaction Hash    0\n",
              "Order ID            0\n",
              "Crossed             0\n",
              "Fee                 0\n",
              "Trade ID            0\n",
              "Timestamp           0\n",
              "dtype: int64"
            ],
            "text/html": [
              "<div>\n",
              "<style scoped>\n",
              "    .dataframe tbody tr th:only-of-type {\n",
              "        vertical-align: middle;\n",
              "    }\n",
              "\n",
              "    .dataframe tbody tr th {\n",
              "        vertical-align: top;\n",
              "    }\n",
              "\n",
              "    .dataframe thead th {\n",
              "        text-align: right;\n",
              "    }\n",
              "</style>\n",
              "<table border=\"1\" class=\"dataframe\">\n",
              "  <thead>\n",
              "    <tr style=\"text-align: right;\">\n",
              "      <th></th>\n",
              "      <th>0</th>\n",
              "    </tr>\n",
              "  </thead>\n",
              "  <tbody>\n",
              "    <tr>\n",
              "      <th>Account</th>\n",
              "      <td>0</td>\n",
              "    </tr>\n",
              "    <tr>\n",
              "      <th>Coin</th>\n",
              "      <td>0</td>\n",
              "    </tr>\n",
              "    <tr>\n",
              "      <th>Execution Price</th>\n",
              "      <td>0</td>\n",
              "    </tr>\n",
              "    <tr>\n",
              "      <th>Size Tokens</th>\n",
              "      <td>0</td>\n",
              "    </tr>\n",
              "    <tr>\n",
              "      <th>Size USD</th>\n",
              "      <td>0</td>\n",
              "    </tr>\n",
              "    <tr>\n",
              "      <th>Side</th>\n",
              "      <td>0</td>\n",
              "    </tr>\n",
              "    <tr>\n",
              "      <th>Timestamp IST</th>\n",
              "      <td>0</td>\n",
              "    </tr>\n",
              "    <tr>\n",
              "      <th>Start Position</th>\n",
              "      <td>0</td>\n",
              "    </tr>\n",
              "    <tr>\n",
              "      <th>Direction</th>\n",
              "      <td>0</td>\n",
              "    </tr>\n",
              "    <tr>\n",
              "      <th>Closed PnL</th>\n",
              "      <td>0</td>\n",
              "    </tr>\n",
              "    <tr>\n",
              "      <th>Transaction Hash</th>\n",
              "      <td>0</td>\n",
              "    </tr>\n",
              "    <tr>\n",
              "      <th>Order ID</th>\n",
              "      <td>0</td>\n",
              "    </tr>\n",
              "    <tr>\n",
              "      <th>Crossed</th>\n",
              "      <td>0</td>\n",
              "    </tr>\n",
              "    <tr>\n",
              "      <th>Fee</th>\n",
              "      <td>0</td>\n",
              "    </tr>\n",
              "    <tr>\n",
              "      <th>Trade ID</th>\n",
              "      <td>0</td>\n",
              "    </tr>\n",
              "    <tr>\n",
              "      <th>Timestamp</th>\n",
              "      <td>0</td>\n",
              "    </tr>\n",
              "  </tbody>\n",
              "</table>\n",
              "</div><br><label><b>dtype:</b> int64</label>"
            ]
          },
          "metadata": {},
          "execution_count": 40
        }
      ]
    },
    {
      "cell_type": "markdown",
      "source": [
        "### 1. Data Preprocessing"
      ],
      "metadata": {
        "id": "L2msA58v3Ir_"
      }
    },
    {
      "cell_type": "markdown",
      "source": [
        "**Converting date columns to datetime objects**"
      ],
      "metadata": {
        "id": "hXnbIPDJ2_1i"
      }
    },
    {
      "cell_type": "code",
      "source": [
        "df_sentiment['date'] = pd.to_datetime(df_sentiment['date'])\n",
        "\n",
        "# Changing format to day-month-year format, as our strptime format is currently expecting month-day-year.\n",
        "df_historical['Timestamp IST'] = pd.to_datetime(df_historical['Timestamp IST'],format='%d-%m-%Y %H:%M')"
      ],
      "metadata": {
        "id": "j9wUh9bo2gR3"
      },
      "execution_count": 41,
      "outputs": []
    },
    {
      "cell_type": "markdown",
      "source": [
        "Converting the date column in the sentiment dataset and the Timestamp IST column in the historical data to a standardized datetime format."
      ],
      "metadata": {
        "id": "SCO9dSC49Ypw"
      }
    },
    {
      "cell_type": "markdown",
      "source": [
        "**Standardizing column names**"
      ],
      "metadata": {
        "id": "fmjvatkC3lko"
      }
    },
    {
      "cell_type": "code",
      "source": [
        "df_historical.rename(columns={'Time': 'timestamp IST', 'Closed PnL': 'closed_pnl', 'Start Position': 'start_position'}, inplace=True)"
      ],
      "metadata": {
        "id": "b6nULXNq3mo7"
      },
      "execution_count": 42,
      "outputs": []
    },
    {
      "cell_type": "markdown",
      "source": [
        "**Creating a common date key for merging**"
      ],
      "metadata": {
        "id": "RtmVEtfO33ji"
      }
    },
    {
      "cell_type": "code",
      "source": [
        "df_historical['trade_date'] = df_historical['Timestamp IST'].dt.date\n",
        "df_sentiment['date_only'] = df_sentiment['date'].dt.date"
      ],
      "metadata": {
        "id": "LaYtkHj033LL"
      },
      "execution_count": 43,
      "outputs": []
    },
    {
      "cell_type": "markdown",
      "source": [
        "For the historical data, creating a new 'trade_date' column by extracting just the date from the Timestamp IST column. It is necessary for joining with the daily sentiment data."
      ],
      "metadata": {
        "id": "fzmbzZNg9qXW"
      }
    },
    {
      "cell_type": "markdown",
      "source": [
        "**Merging the two datasets**"
      ],
      "metadata": {
        "id": "lbv9gwK14GH2"
      }
    },
    {
      "cell_type": "code",
      "source": [
        "merged_df = pd.merge(df_historical, df_sentiment, left_on='trade_date', right_on='date_only', how='left')\n",
        "merged_df.head()"
      ],
      "metadata": {
        "colab": {
          "base_uri": "https://localhost:8080/",
          "height": 446
        },
        "id": "BAeKGnaK4GoE",
        "outputId": "f5f3d68b-9f81-4e38-cc1d-5d74db6f9ee1"
      },
      "execution_count": 44,
      "outputs": [
        {
          "output_type": "execute_result",
          "data": {
            "text/plain": [
              "                                      Account  Coin  Execution Price  \\\n",
              "0  0xae5eacaf9c6b9111fd53034a602c192a04e082ed  @107           7.9769   \n",
              "1  0xae5eacaf9c6b9111fd53034a602c192a04e082ed  @107           7.9800   \n",
              "2  0xae5eacaf9c6b9111fd53034a602c192a04e082ed  @107           7.9855   \n",
              "3  0xae5eacaf9c6b9111fd53034a602c192a04e082ed  @107           7.9874   \n",
              "4  0xae5eacaf9c6b9111fd53034a602c192a04e082ed  @107           7.9894   \n",
              "\n",
              "   Size Tokens  Size USD Side       Timestamp IST  start_position Direction  \\\n",
              "0       986.87   7872.16  BUY 2024-12-02 22:50:00        0.000000       Buy   \n",
              "1        16.00    127.68  BUY 2024-12-02 22:50:00      986.524596       Buy   \n",
              "2       144.09   1150.63  BUY 2024-12-02 22:50:00     1002.518996       Buy   \n",
              "3       142.98   1142.04  BUY 2024-12-02 22:50:00     1146.558564       Buy   \n",
              "4         8.73     69.75  BUY 2024-12-02 22:50:00     1289.488521       Buy   \n",
              "\n",
              "   closed_pnl  ... Crossed       Fee      Trade ID     Timestamp  trade_date  \\\n",
              "0         0.0  ...    True  0.345404  8.950000e+14  1.730000e+12  2024-12-02   \n",
              "1         0.0  ...    True  0.005600  4.430000e+14  1.730000e+12  2024-12-02   \n",
              "2         0.0  ...    True  0.050431  6.600000e+14  1.730000e+12  2024-12-02   \n",
              "3         0.0  ...    True  0.050043  1.080000e+15  1.730000e+12  2024-12-02   \n",
              "4         0.0  ...    True  0.003055  1.050000e+15  1.730000e+12  2024-12-02   \n",
              "\n",
              "      timestamp value  classification       date   date_only  \n",
              "0  1.733117e+09  80.0   Extreme Greed 2024-12-02  2024-12-02  \n",
              "1  1.733117e+09  80.0   Extreme Greed 2024-12-02  2024-12-02  \n",
              "2  1.733117e+09  80.0   Extreme Greed 2024-12-02  2024-12-02  \n",
              "3  1.733117e+09  80.0   Extreme Greed 2024-12-02  2024-12-02  \n",
              "4  1.733117e+09  80.0   Extreme Greed 2024-12-02  2024-12-02  \n",
              "\n",
              "[5 rows x 22 columns]"
            ],
            "text/html": [
              "\n",
              "  <div id=\"df-dcca8ec6-2407-4fa1-97b3-ba6a73534e42\" class=\"colab-df-container\">\n",
              "    <div>\n",
              "<style scoped>\n",
              "    .dataframe tbody tr th:only-of-type {\n",
              "        vertical-align: middle;\n",
              "    }\n",
              "\n",
              "    .dataframe tbody tr th {\n",
              "        vertical-align: top;\n",
              "    }\n",
              "\n",
              "    .dataframe thead th {\n",
              "        text-align: right;\n",
              "    }\n",
              "</style>\n",
              "<table border=\"1\" class=\"dataframe\">\n",
              "  <thead>\n",
              "    <tr style=\"text-align: right;\">\n",
              "      <th></th>\n",
              "      <th>Account</th>\n",
              "      <th>Coin</th>\n",
              "      <th>Execution Price</th>\n",
              "      <th>Size Tokens</th>\n",
              "      <th>Size USD</th>\n",
              "      <th>Side</th>\n",
              "      <th>Timestamp IST</th>\n",
              "      <th>start_position</th>\n",
              "      <th>Direction</th>\n",
              "      <th>closed_pnl</th>\n",
              "      <th>...</th>\n",
              "      <th>Crossed</th>\n",
              "      <th>Fee</th>\n",
              "      <th>Trade ID</th>\n",
              "      <th>Timestamp</th>\n",
              "      <th>trade_date</th>\n",
              "      <th>timestamp</th>\n",
              "      <th>value</th>\n",
              "      <th>classification</th>\n",
              "      <th>date</th>\n",
              "      <th>date_only</th>\n",
              "    </tr>\n",
              "  </thead>\n",
              "  <tbody>\n",
              "    <tr>\n",
              "      <th>0</th>\n",
              "      <td>0xae5eacaf9c6b9111fd53034a602c192a04e082ed</td>\n",
              "      <td>@107</td>\n",
              "      <td>7.9769</td>\n",
              "      <td>986.87</td>\n",
              "      <td>7872.16</td>\n",
              "      <td>BUY</td>\n",
              "      <td>2024-12-02 22:50:00</td>\n",
              "      <td>0.000000</td>\n",
              "      <td>Buy</td>\n",
              "      <td>0.0</td>\n",
              "      <td>...</td>\n",
              "      <td>True</td>\n",
              "      <td>0.345404</td>\n",
              "      <td>8.950000e+14</td>\n",
              "      <td>1.730000e+12</td>\n",
              "      <td>2024-12-02</td>\n",
              "      <td>1.733117e+09</td>\n",
              "      <td>80.0</td>\n",
              "      <td>Extreme Greed</td>\n",
              "      <td>2024-12-02</td>\n",
              "      <td>2024-12-02</td>\n",
              "    </tr>\n",
              "    <tr>\n",
              "      <th>1</th>\n",
              "      <td>0xae5eacaf9c6b9111fd53034a602c192a04e082ed</td>\n",
              "      <td>@107</td>\n",
              "      <td>7.9800</td>\n",
              "      <td>16.00</td>\n",
              "      <td>127.68</td>\n",
              "      <td>BUY</td>\n",
              "      <td>2024-12-02 22:50:00</td>\n",
              "      <td>986.524596</td>\n",
              "      <td>Buy</td>\n",
              "      <td>0.0</td>\n",
              "      <td>...</td>\n",
              "      <td>True</td>\n",
              "      <td>0.005600</td>\n",
              "      <td>4.430000e+14</td>\n",
              "      <td>1.730000e+12</td>\n",
              "      <td>2024-12-02</td>\n",
              "      <td>1.733117e+09</td>\n",
              "      <td>80.0</td>\n",
              "      <td>Extreme Greed</td>\n",
              "      <td>2024-12-02</td>\n",
              "      <td>2024-12-02</td>\n",
              "    </tr>\n",
              "    <tr>\n",
              "      <th>2</th>\n",
              "      <td>0xae5eacaf9c6b9111fd53034a602c192a04e082ed</td>\n",
              "      <td>@107</td>\n",
              "      <td>7.9855</td>\n",
              "      <td>144.09</td>\n",
              "      <td>1150.63</td>\n",
              "      <td>BUY</td>\n",
              "      <td>2024-12-02 22:50:00</td>\n",
              "      <td>1002.518996</td>\n",
              "      <td>Buy</td>\n",
              "      <td>0.0</td>\n",
              "      <td>...</td>\n",
              "      <td>True</td>\n",
              "      <td>0.050431</td>\n",
              "      <td>6.600000e+14</td>\n",
              "      <td>1.730000e+12</td>\n",
              "      <td>2024-12-02</td>\n",
              "      <td>1.733117e+09</td>\n",
              "      <td>80.0</td>\n",
              "      <td>Extreme Greed</td>\n",
              "      <td>2024-12-02</td>\n",
              "      <td>2024-12-02</td>\n",
              "    </tr>\n",
              "    <tr>\n",
              "      <th>3</th>\n",
              "      <td>0xae5eacaf9c6b9111fd53034a602c192a04e082ed</td>\n",
              "      <td>@107</td>\n",
              "      <td>7.9874</td>\n",
              "      <td>142.98</td>\n",
              "      <td>1142.04</td>\n",
              "      <td>BUY</td>\n",
              "      <td>2024-12-02 22:50:00</td>\n",
              "      <td>1146.558564</td>\n",
              "      <td>Buy</td>\n",
              "      <td>0.0</td>\n",
              "      <td>...</td>\n",
              "      <td>True</td>\n",
              "      <td>0.050043</td>\n",
              "      <td>1.080000e+15</td>\n",
              "      <td>1.730000e+12</td>\n",
              "      <td>2024-12-02</td>\n",
              "      <td>1.733117e+09</td>\n",
              "      <td>80.0</td>\n",
              "      <td>Extreme Greed</td>\n",
              "      <td>2024-12-02</td>\n",
              "      <td>2024-12-02</td>\n",
              "    </tr>\n",
              "    <tr>\n",
              "      <th>4</th>\n",
              "      <td>0xae5eacaf9c6b9111fd53034a602c192a04e082ed</td>\n",
              "      <td>@107</td>\n",
              "      <td>7.9894</td>\n",
              "      <td>8.73</td>\n",
              "      <td>69.75</td>\n",
              "      <td>BUY</td>\n",
              "      <td>2024-12-02 22:50:00</td>\n",
              "      <td>1289.488521</td>\n",
              "      <td>Buy</td>\n",
              "      <td>0.0</td>\n",
              "      <td>...</td>\n",
              "      <td>True</td>\n",
              "      <td>0.003055</td>\n",
              "      <td>1.050000e+15</td>\n",
              "      <td>1.730000e+12</td>\n",
              "      <td>2024-12-02</td>\n",
              "      <td>1.733117e+09</td>\n",
              "      <td>80.0</td>\n",
              "      <td>Extreme Greed</td>\n",
              "      <td>2024-12-02</td>\n",
              "      <td>2024-12-02</td>\n",
              "    </tr>\n",
              "  </tbody>\n",
              "</table>\n",
              "<p>5 rows × 22 columns</p>\n",
              "</div>\n",
              "    <div class=\"colab-df-buttons\">\n",
              "\n",
              "  <div class=\"colab-df-container\">\n",
              "    <button class=\"colab-df-convert\" onclick=\"convertToInteractive('df-dcca8ec6-2407-4fa1-97b3-ba6a73534e42')\"\n",
              "            title=\"Convert this dataframe to an interactive table.\"\n",
              "            style=\"display:none;\">\n",
              "\n",
              "  <svg xmlns=\"http://www.w3.org/2000/svg\" height=\"24px\" viewBox=\"0 -960 960 960\">\n",
              "    <path d=\"M120-120v-720h720v720H120Zm60-500h600v-160H180v160Zm220 220h160v-160H400v160Zm0 220h160v-160H400v160ZM180-400h160v-160H180v160Zm440 0h160v-160H620v160ZM180-180h160v-160H180v160Zm440 0h160v-160H620v160Z\"/>\n",
              "  </svg>\n",
              "    </button>\n",
              "\n",
              "  <style>\n",
              "    .colab-df-container {\n",
              "      display:flex;\n",
              "      gap: 12px;\n",
              "    }\n",
              "\n",
              "    .colab-df-convert {\n",
              "      background-color: #E8F0FE;\n",
              "      border: none;\n",
              "      border-radius: 50%;\n",
              "      cursor: pointer;\n",
              "      display: none;\n",
              "      fill: #1967D2;\n",
              "      height: 32px;\n",
              "      padding: 0 0 0 0;\n",
              "      width: 32px;\n",
              "    }\n",
              "\n",
              "    .colab-df-convert:hover {\n",
              "      background-color: #E2EBFA;\n",
              "      box-shadow: 0px 1px 2px rgba(60, 64, 67, 0.3), 0px 1px 3px 1px rgba(60, 64, 67, 0.15);\n",
              "      fill: #174EA6;\n",
              "    }\n",
              "\n",
              "    .colab-df-buttons div {\n",
              "      margin-bottom: 4px;\n",
              "    }\n",
              "\n",
              "    [theme=dark] .colab-df-convert {\n",
              "      background-color: #3B4455;\n",
              "      fill: #D2E3FC;\n",
              "    }\n",
              "\n",
              "    [theme=dark] .colab-df-convert:hover {\n",
              "      background-color: #434B5C;\n",
              "      box-shadow: 0px 1px 3px 1px rgba(0, 0, 0, 0.15);\n",
              "      filter: drop-shadow(0px 1px 2px rgba(0, 0, 0, 0.3));\n",
              "      fill: #FFFFFF;\n",
              "    }\n",
              "  </style>\n",
              "\n",
              "    <script>\n",
              "      const buttonEl =\n",
              "        document.querySelector('#df-dcca8ec6-2407-4fa1-97b3-ba6a73534e42 button.colab-df-convert');\n",
              "      buttonEl.style.display =\n",
              "        google.colab.kernel.accessAllowed ? 'block' : 'none';\n",
              "\n",
              "      async function convertToInteractive(key) {\n",
              "        const element = document.querySelector('#df-dcca8ec6-2407-4fa1-97b3-ba6a73534e42');\n",
              "        const dataTable =\n",
              "          await google.colab.kernel.invokeFunction('convertToInteractive',\n",
              "                                                    [key], {});\n",
              "        if (!dataTable) return;\n",
              "\n",
              "        const docLinkHtml = 'Like what you see? Visit the ' +\n",
              "          '<a target=\"_blank\" href=https://colab.research.google.com/notebooks/data_table.ipynb>data table notebook</a>'\n",
              "          + ' to learn more about interactive tables.';\n",
              "        element.innerHTML = '';\n",
              "        dataTable['output_type'] = 'display_data';\n",
              "        await google.colab.output.renderOutput(dataTable, element);\n",
              "        const docLink = document.createElement('div');\n",
              "        docLink.innerHTML = docLinkHtml;\n",
              "        element.appendChild(docLink);\n",
              "      }\n",
              "    </script>\n",
              "  </div>\n",
              "\n",
              "\n",
              "    <div id=\"df-6779cd0f-a225-40f7-b83c-9e8bb549e1ef\">\n",
              "      <button class=\"colab-df-quickchart\" onclick=\"quickchart('df-6779cd0f-a225-40f7-b83c-9e8bb549e1ef')\"\n",
              "                title=\"Suggest charts\"\n",
              "                style=\"display:none;\">\n",
              "\n",
              "<svg xmlns=\"http://www.w3.org/2000/svg\" height=\"24px\"viewBox=\"0 0 24 24\"\n",
              "     width=\"24px\">\n",
              "    <g>\n",
              "        <path d=\"M19 3H5c-1.1 0-2 .9-2 2v14c0 1.1.9 2 2 2h14c1.1 0 2-.9 2-2V5c0-1.1-.9-2-2-2zM9 17H7v-7h2v7zm4 0h-2V7h2v10zm4 0h-2v-4h2v4z\"/>\n",
              "    </g>\n",
              "</svg>\n",
              "      </button>\n",
              "\n",
              "<style>\n",
              "  .colab-df-quickchart {\n",
              "      --bg-color: #E8F0FE;\n",
              "      --fill-color: #1967D2;\n",
              "      --hover-bg-color: #E2EBFA;\n",
              "      --hover-fill-color: #174EA6;\n",
              "      --disabled-fill-color: #AAA;\n",
              "      --disabled-bg-color: #DDD;\n",
              "  }\n",
              "\n",
              "  [theme=dark] .colab-df-quickchart {\n",
              "      --bg-color: #3B4455;\n",
              "      --fill-color: #D2E3FC;\n",
              "      --hover-bg-color: #434B5C;\n",
              "      --hover-fill-color: #FFFFFF;\n",
              "      --disabled-bg-color: #3B4455;\n",
              "      --disabled-fill-color: #666;\n",
              "  }\n",
              "\n",
              "  .colab-df-quickchart {\n",
              "    background-color: var(--bg-color);\n",
              "    border: none;\n",
              "    border-radius: 50%;\n",
              "    cursor: pointer;\n",
              "    display: none;\n",
              "    fill: var(--fill-color);\n",
              "    height: 32px;\n",
              "    padding: 0;\n",
              "    width: 32px;\n",
              "  }\n",
              "\n",
              "  .colab-df-quickchart:hover {\n",
              "    background-color: var(--hover-bg-color);\n",
              "    box-shadow: 0 1px 2px rgba(60, 64, 67, 0.3), 0 1px 3px 1px rgba(60, 64, 67, 0.15);\n",
              "    fill: var(--button-hover-fill-color);\n",
              "  }\n",
              "\n",
              "  .colab-df-quickchart-complete:disabled,\n",
              "  .colab-df-quickchart-complete:disabled:hover {\n",
              "    background-color: var(--disabled-bg-color);\n",
              "    fill: var(--disabled-fill-color);\n",
              "    box-shadow: none;\n",
              "  }\n",
              "\n",
              "  .colab-df-spinner {\n",
              "    border: 2px solid var(--fill-color);\n",
              "    border-color: transparent;\n",
              "    border-bottom-color: var(--fill-color);\n",
              "    animation:\n",
              "      spin 1s steps(1) infinite;\n",
              "  }\n",
              "\n",
              "  @keyframes spin {\n",
              "    0% {\n",
              "      border-color: transparent;\n",
              "      border-bottom-color: var(--fill-color);\n",
              "      border-left-color: var(--fill-color);\n",
              "    }\n",
              "    20% {\n",
              "      border-color: transparent;\n",
              "      border-left-color: var(--fill-color);\n",
              "      border-top-color: var(--fill-color);\n",
              "    }\n",
              "    30% {\n",
              "      border-color: transparent;\n",
              "      border-left-color: var(--fill-color);\n",
              "      border-top-color: var(--fill-color);\n",
              "      border-right-color: var(--fill-color);\n",
              "    }\n",
              "    40% {\n",
              "      border-color: transparent;\n",
              "      border-right-color: var(--fill-color);\n",
              "      border-top-color: var(--fill-color);\n",
              "    }\n",
              "    60% {\n",
              "      border-color: transparent;\n",
              "      border-right-color: var(--fill-color);\n",
              "    }\n",
              "    80% {\n",
              "      border-color: transparent;\n",
              "      border-right-color: var(--fill-color);\n",
              "      border-bottom-color: var(--fill-color);\n",
              "    }\n",
              "    90% {\n",
              "      border-color: transparent;\n",
              "      border-bottom-color: var(--fill-color);\n",
              "    }\n",
              "  }\n",
              "</style>\n",
              "\n",
              "      <script>\n",
              "        async function quickchart(key) {\n",
              "          const quickchartButtonEl =\n",
              "            document.querySelector('#' + key + ' button');\n",
              "          quickchartButtonEl.disabled = true;  // To prevent multiple clicks.\n",
              "          quickchartButtonEl.classList.add('colab-df-spinner');\n",
              "          try {\n",
              "            const charts = await google.colab.kernel.invokeFunction(\n",
              "                'suggestCharts', [key], {});\n",
              "          } catch (error) {\n",
              "            console.error('Error during call to suggestCharts:', error);\n",
              "          }\n",
              "          quickchartButtonEl.classList.remove('colab-df-spinner');\n",
              "          quickchartButtonEl.classList.add('colab-df-quickchart-complete');\n",
              "        }\n",
              "        (() => {\n",
              "          let quickchartButtonEl =\n",
              "            document.querySelector('#df-6779cd0f-a225-40f7-b83c-9e8bb549e1ef button');\n",
              "          quickchartButtonEl.style.display =\n",
              "            google.colab.kernel.accessAllowed ? 'block' : 'none';\n",
              "        })();\n",
              "      </script>\n",
              "    </div>\n",
              "\n",
              "    </div>\n",
              "  </div>\n"
            ],
            "application/vnd.google.colaboratory.intrinsic+json": {
              "type": "dataframe",
              "variable_name": "merged_df"
            }
          },
          "metadata": {},
          "execution_count": 44
        }
      ]
    },
    {
      "cell_type": "markdown",
      "source": [
        "- Performing a **left merge** of the historical trader data with the sentiment data using the trade_date column as the key.\n",
        "- This will add the value and classification columns to each individual trade record, allowing you to analyze trader behavior within specific sentiment regimes."
      ],
      "metadata": {
        "id": "Sax6KCRQ96fz"
      }
    },
    {
      "cell_type": "markdown",
      "source": [
        "**Saving the merged dataframe as an intermediate output**"
      ],
      "metadata": {
        "id": "DosNOMSF4Rrx"
      }
    },
    {
      "cell_type": "code",
      "source": [
        "merged_df.to_csv(os.path.join(csv_dir, 'merged_data.csv'), index=False)\n",
        "print(f\"Merged data saved to {csv_dir}/merged_data.csv\")"
      ],
      "metadata": {
        "colab": {
          "base_uri": "https://localhost:8080/"
        },
        "id": "0CGChOxR4VC8",
        "outputId": "d4c7eab8-f5bc-4565-c518-4ea762193f34"
      },
      "execution_count": 45,
      "outputs": [
        {
          "output_type": "stream",
          "name": "stdout",
          "text": [
            "Merged data saved to ds_Aniruddha_Ojha/csv_files/merged_data.csv\n"
          ]
        }
      ]
    },
    {
      "cell_type": "markdown",
      "source": [
        "### 2. Analyzing Trader Performance by Sentiment Regime\n",
        "\n",
        "- This step focuses on calculating and comparing key performance indicators (KPIs) for all trades that occurred under different market sentiment conditions.\n",
        "\n"
      ],
      "metadata": {
        "id": "tIxQo_KD4iIa"
      }
    },
    {
      "cell_type": "code",
      "source": [
        "# Grouping performance by sentiment regime\n",
        "sentiment_performance = merged_df.groupby('classification').agg(\n",
        "    Average_PnL=('closed_pnl', 'mean'),\n",
        "    Win_Rate_percent=('closed_pnl', lambda x: (x > 0).mean() * 100),\n",
        "    Total_Trades=('closed_pnl', 'count'),\n",
        "    Unique_Days=('trade_date', 'nunique')\n",
        ").sort_values(by='Total_Trades', ascending=False)\n",
        "print(\"\\nTrader Performance by Sentiment Regime:\")\n",
        "print(sentiment_performance)"
      ],
      "metadata": {
        "colab": {
          "base_uri": "https://localhost:8080/"
        },
        "id": "01SZyktb4Xvb",
        "outputId": "fd3248a7-f058-4edb-ad8f-d74eeed7b6f2"
      },
      "execution_count": 47,
      "outputs": [
        {
          "output_type": "stream",
          "name": "stdout",
          "text": [
            "\n",
            "Trader Performance by Sentiment Regime:\n",
            "                Average_PnL  Win_Rate_percent  Total_Trades  Unique_Days\n",
            "classification                                                          \n",
            "Fear              54.290400         42.076750         61837           91\n",
            "Greed             42.743559         38.482794         50303          193\n",
            "Extreme Greed     67.892861         46.494299         39992          114\n",
            "Neutral           34.307718         39.699093         37686           67\n",
            "Extreme Fear      34.537862         37.060748         21400           14\n"
          ]
        }
      ]
    },
    {
      "cell_type": "code",
      "source": [
        "# Calculating Trading Frequency per sentiment regime\n",
        "sentiment_performance['Trading_Frequency_Per_Day'] = sentiment_performance['Total_Trades'] / sentiment_performance['Unique_Days']\n",
        "print(\"\\nTrader Performance Metrics by Sentiment Regime:\")\n",
        "print(sentiment_performance[['Average_PnL', 'Win_Rate_percent', 'Trading_Frequency_Per_Day']])\n",
        "print(\"\\n\")"
      ],
      "metadata": {
        "colab": {
          "base_uri": "https://localhost:8080/"
        },
        "id": "CCO-aqDDFLPS",
        "outputId": "4aa559f1-2459-4f18-cea9-f3a87a96dfa3"
      },
      "execution_count": 48,
      "outputs": [
        {
          "output_type": "stream",
          "name": "stdout",
          "text": [
            "\n",
            "Trader Performance Metrics by Sentiment Regime:\n",
            "                Average_PnL  Win_Rate_percent  Trading_Frequency_Per_Day\n",
            "classification                                                          \n",
            "Fear              54.290400         42.076750                 679.527473\n",
            "Greed             42.743559         38.482794                 260.637306\n",
            "Extreme Greed     67.892861         46.494299                 350.807018\n",
            "Neutral           34.307718         39.699093                 562.477612\n",
            "Extreme Fear      34.537862         37.060748                1528.571429\n",
            "\n",
            "\n"
          ]
        }
      ]
    },
    {
      "cell_type": "markdown",
      "source": [
        "**Visualizing and Saving Plots**"
      ],
      "metadata": {
        "id": "RrJrNVkj4hNU"
      }
    },
    {
      "cell_type": "code",
      "source": [
        "# Setting a consistent style for the plots\n",
        "sns.set_style(\"whitegrid\")\n",
        "plt.style.use('seaborn-v0_8-darkgrid')\n",
        "\n",
        "fig, axes = plt.subplots(1, 2, figsize=(18, 7))\n",
        "fig.suptitle('Trader Performance by Market Sentiment Regime', fontsize=16, y=1.02)\n",
        "\n",
        "# Bar chart for Average PnL (Fix applied here)\n",
        "sns.barplot(x=sentiment_performance.index, y='Average_PnL', data=sentiment_performance, hue=sentiment_performance.index, palette='viridis', ax=axes[0], legend=False)\n",
        "axes[0].set_title('Average PnL by Market Sentiment')\n",
        "axes[0].set_xlabel('Sentiment Classification', fontsize=12)\n",
        "axes[0].set_ylabel('Average Closed PnL ($)', fontsize=12)\n",
        "axes[0].tick_params(axis='x', rotation=45)\n",
        "\n",
        "# Bar chart for Win Rate (Fix applied here)\n",
        "sns.barplot(x=sentiment_performance.index, y='Win_Rate_percent', data=sentiment_performance, hue=sentiment_performance.index, palette='magma', ax=axes[1], legend=False)\n",
        "axes[1].set_title('Win Rate (%) by Market Sentiment')\n",
        "axes[1].set_xlabel('Sentiment Classification', fontsize=12)\n",
        "axes[1].set_ylabel('Win Rate (%)', fontsize=12)\n",
        "axes[1].tick_params(axis='x', rotation=45)\n",
        "\n",
        "plt.tight_layout()\n",
        "\n",
        "# Saving the figure to the outputs directory\n",
        "plot_filename = os.path.join(output_dir, 'sentiment_performance_bars.png')\n",
        "plt.savefig(plot_filename)\n",
        "print(f\"Bar charts saved to {plot_filename}\")\n",
        "\n",
        "plt.show()"
      ],
      "metadata": {
        "colab": {
          "base_uri": "https://localhost:8080/",
          "height": 481
        },
        "id": "5GmSNaNGGuIv",
        "outputId": "d7cf88cf-a404-47dc-bd78-f7159e05afb7"
      },
      "execution_count": 49,
      "outputs": [
        {
          "output_type": "stream",
          "name": "stdout",
          "text": [
            "Bar charts saved to ds_Aniruddha_Ojha/outputs/sentiment_performance_bars.png\n"
          ]
        },
        {
          "output_type": "display_data",
          "data": {
            "text/plain": [
              "<Figure size 1800x700 with 2 Axes>"
            ],
            "image/png": "[encoded data removed]"
          },
          "metadata": {}
        }
      ]
    },
    {
      "cell_type": "markdown",
      "source": [
        "### 3. Identifying Contrarian and Consistent Traders\n",
        "- A deeper look at individual trader performance to find those who thrive in specific conditions or show consistent success.\n",
        "\n"
      ],
      "metadata": {
        "id": "yNJMTw2kIg7v"
      }
    },
    {
      "cell_type": "code",
      "source": [
        "# Firstly, we'll calculate performance metrics for each trader in each sentiment regime\n",
        "trader_sentiment_performance = merged_df.groupby(['Account', 'classification']).agg(\n",
        "    Avg_PnL=('closed_pnl', 'mean'),\n",
        "    Win_Rate=('closed_pnl', lambda x: (x > 0).mean() * 100),\n",
        "    Total_Trades=('closed_pnl', 'count')\n",
        ").reset_index()"
      ],
      "metadata": {
        "id": "s4TtdDC5G4v9"
      },
      "execution_count": 50,
      "outputs": []
    },
    {
      "cell_type": "code",
      "source": [
        "# Identifying Contrarian Traders (most profitable during 'Fear' or 'Extreme Fear')\n",
        "fear_regimes = ['Fear', 'Extreme Fear']\n",
        "contrarian_traders_df = trader_sentiment_performance[\n",
        "    trader_sentiment_performance['classification'].isin(fear_regimes)\n",
        "]\n",
        "top_contrarians = contrarian_traders_df.sort_values(by='Avg_PnL', ascending=False).head(10)\n",
        "\n",
        "print(\"\\nTop 10 Contrarian Traders (Highest Average PnL in 'Fear' and 'Extreme Fear' Regimes):\")\n",
        "print(top_contrarians[['Account', 'classification', 'Avg_PnL', 'Win_Rate']])\n",
        "print(\"\\n\")"
      ],
      "metadata": {
        "colab": {
          "base_uri": "https://localhost:8080/"
        },
        "id": "T2ushtXUIwX1",
        "outputId": "bf005b43-3c25-4d52-fd8f-fabae7201c3b"
      },
      "execution_count": 51,
      "outputs": [
        {
          "output_type": "stream",
          "name": "stdout",
          "text": [
            "\n",
            "Top 10 Contrarian Traders (Highest Average PnL in 'Fear' and 'Extreme Fear' Regimes):\n",
            "                                        Account classification      Avg_PnL  \\\n",
            "0    0x083384f897ee0f19899168e3b1bec365f52a9012   Extreme Fear  1247.692214   \n",
            "42   0x420ab45e0bd8863569a5efbb9c05d91f40624641           Fear  1016.819167   \n",
            "80   0x72c6a4624e1dffa724e6d00d64ceae698af892a0   Extreme Fear   900.002541   \n",
            "2    0x083384f897ee0f19899168e3b1bec365f52a9012           Fear   626.194346   \n",
            "82   0x72c6a4624e1dffa724e6d00d64ceae698af892a0           Fear   335.300103   \n",
            "57   0x4acb90e786d897ecffb614dc822eb231b4ffb9f4           Fear   212.594357   \n",
            "148  0xbd5fead7180a9c139fa51a103cb6a2ce86ddb5c3           Fear   200.506120   \n",
            "60   0x4f93fead39b70a1824f981a54d4e55b278e9f760   Extreme Fear   200.395004   \n",
            "55   0x4acb90e786d897ecffb614dc822eb231b4ffb9f4   Extreme Fear   169.063285   \n",
            "40   0x420ab45e0bd8863569a5efbb9c05d91f40624641   Extreme Fear   155.099710   \n",
            "\n",
            "      Win_Rate  \n",
            "0    37.000000  \n",
            "42   35.714286  \n",
            "80   42.081448  \n",
            "2    52.643420  \n",
            "82   64.501160  \n",
            "57   40.902579  \n",
            "148  49.872989  \n",
            "60   42.857143  \n",
            "55   30.933063  \n",
            "40    4.918033  \n",
            "\n",
            "\n"
          ]
        }
      ]
    },
    {
      "cell_type": "code",
      "source": [
        "# Identifying Greed Performers (most profitable during 'Greed' or 'Extreme Greed')\n",
        "greed_regimes = ['Greed', 'Extreme Greed']\n",
        "greed_traders_df = trader_sentiment_performance[\n",
        "    trader_sentiment_performance['classification'].isin(greed_regimes)\n",
        "]\n",
        "top_greed_performers = greed_traders_df.sort_values(by='Avg_PnL', ascending=False).head(10)\n",
        "\n",
        "print(\"Top 10 'Greed' Performers (Highest Average PnL in 'Greed' and 'Extreme Greed' Regimes):\")\n",
        "print(top_greed_performers[['Account', 'classification', 'Avg_PnL', 'Win_Rate']])\n",
        "print(\"\\n\")"
      ],
      "metadata": {
        "colab": {
          "base_uri": "https://localhost:8080/"
        },
        "id": "X30e9HcsJAk1",
        "outputId": "d491a897-5657-43ed-c1ab-a5da13ed40aa"
      },
      "execution_count": 52,
      "outputs": [
        {
          "output_type": "stream",
          "name": "stdout",
          "text": [
            "Top 10 'Greed' Performers (Highest Average PnL in 'Greed' and 'Extreme Greed' Regimes):\n",
            "                                        Account classification      Avg_PnL  \\\n",
            "46   0x430f09841d65beb3f27765503d0f850b8bce7713  Extreme Greed  8285.663252   \n",
            "78   0x72743ae2822edd658c0c50608fd7c5c501b2afbd          Greed   764.916220   \n",
            "135  0xb1231a4a2dd02f2276fa3c5e2a2f3436e6bfed23  Extreme Greed   672.735763   \n",
            "3    0x083384f897ee0f19899168e3b1bec365f52a9012          Greed   482.089321   \n",
            "71   0x6d6a4b953f202f8df5bed40692e7fd865318264a  Extreme Greed   428.023843   \n",
            "91   0x7f4f299f74eec87806a830e3caa9afa5f2b9db8f  Extreme Greed   420.277529   \n",
            "123  0xa520ded057a32086c40e7dd6ed4eb8efb82c00e0          Greed   408.979729   \n",
            "11   0x271b280974205ca63b716753467d5a371de622ab  Extreme Greed   358.632043   \n",
            "48   0x430f09841d65beb3f27765503d0f850b8bce7713          Greed   294.922917   \n",
            "128  0xae5eacaf9c6b9111fd53034a602c192a04e082ed          Greed   224.519734   \n",
            "\n",
            "       Win_Rate  \n",
            "46   100.000000  \n",
            "78    31.703204  \n",
            "135   51.004260  \n",
            "3     16.027875  \n",
            "71    89.473684  \n",
            "91    33.333333  \n",
            "123   95.370370  \n",
            "11    80.000000  \n",
            "48    63.730570  \n",
            "128   44.705882  \n",
            "\n",
            "\n"
          ]
        }
      ]
    },
    {
      "cell_type": "code",
      "source": [
        "# Identifying Consistent Performers (positive performance across all sentiment types)\n",
        "\n",
        "# Finding traders who have traded in at least 3 distinct sentiment regimes\n",
        "min_regimes = 3\n",
        "consistent_traders_df = trader_sentiment_performance.groupby('Account').filter(lambda x: x['classification'].nunique() >= min_regimes)\n",
        "\n",
        "# Calculating the mean performance across all regimes for these traders\n",
        "consistent_trader_summary = consistent_traders_df.groupby('Account').agg(\n",
        "    Overall_Avg_PnL=('Avg_PnL', 'mean'),\n",
        "    Overall_Win_Rate=('Win_Rate', 'mean'),\n",
        "    Total_Regimes_Traded=('classification', 'nunique')\n",
        ").sort_values(by='Overall_Avg_PnL', ascending=False)\n",
        "\n",
        "print(f\"Top 10 Consistent Performers (Traded in >= {min_regimes} regimes, sorted by overall average PnL):\")\n",
        "print(consistent_trader_summary.head(10))"
      ],
      "metadata": {
        "colab": {
          "base_uri": "https://localhost:8080/"
        },
        "id": "8tBQvzHvJL91",
        "outputId": "9ff3b496-fc46-4ed1-c7a2-dc07eb0617cc"
      },
      "execution_count": 53,
      "outputs": [
        {
          "output_type": "stream",
          "name": "stdout",
          "text": [
            "Top 10 Consistent Performers (Traded in >= 3 regimes, sorted by overall average PnL):\n",
            "                                            Overall_Avg_PnL  Overall_Win_Rate  \\\n",
            "Account                                                                         \n",
            "0x430f09841d65beb3f27765503d0f850b8bce7713      1808.857734         44.920684   \n",
            "0x3f9a0aadc7f04a7c9d75dc1b5a6ddd6e36486cf6       882.266368         59.783704   \n",
            "0x420ab45e0bd8863569a5efbb9c05d91f40624641       586.922533         23.760995   \n",
            "0x083384f897ee0f19899168e3b1bec365f52a9012       522.361081         34.106547   \n",
            "0x72c6a4624e1dffa724e6d00d64ceae698af892a0       240.321147         23.863644   \n",
            "0xb1231a4a2dd02f2276fa3c5e2a2f3436e6bfed23       184.685716         35.993804   \n",
            "0x4acb90e786d897ecffb614dc822eb231b4ffb9f4       146.845384         48.524175   \n",
            "0x72743ae2822edd658c0c50608fd7c5c501b2afbd       128.894559         21.815407   \n",
            "0x6d6a4b953f202f8df5bed40692e7fd865318264a       118.780821         46.115162   \n",
            "0xae5eacaf9c6b9111fd53034a602c192a04e082ed       102.131587         35.607097   \n",
            "\n",
            "                                            Total_Regimes_Traded  \n",
            "Account                                                           \n",
            "0x430f09841d65beb3f27765503d0f850b8bce7713                     5  \n",
            "0x3f9a0aadc7f04a7c9d75dc1b5a6ddd6e36486cf6                     5  \n",
            "0x420ab45e0bd8863569a5efbb9c05d91f40624641                     5  \n",
            "0x083384f897ee0f19899168e3b1bec365f52a9012                     5  \n",
            "0x72c6a4624e1dffa724e6d00d64ceae698af892a0                     5  \n",
            "0xb1231a4a2dd02f2276fa3c5e2a2f3436e6bfed23                     5  \n",
            "0x4acb90e786d897ecffb614dc822eb231b4ffb9f4                     5  \n",
            "0x72743ae2822edd658c0c50608fd7c5c501b2afbd                     5  \n",
            "0x6d6a4b953f202f8df5bed40692e7fd865318264a                     5  \n",
            "0xae5eacaf9c6b9111fd53034a602c192a04e082ed                     4  \n"
          ]
        }
      ]
    },
    {
      "cell_type": "markdown",
      "source": [
        "### 4. Correlating Sentiment Indicators with Trading Outcomes\n",
        "\n",
        "- To detect correlations, you need to aggregate trading outcomes to the same daily level as the sentiment data."
      ],
      "metadata": {
        "id": "2GTpk1EdMMUx"
      }
    },
    {
      "cell_type": "code",
      "source": [
        "# Aggregating trading data to a daily level\n",
        "daily_performance = merged_df.groupby('trade_date').agg(\n",
        "    Daily_PnL=('closed_pnl', 'sum'),\n",
        "    Daily_Win_Rate_percent=('closed_pnl', lambda x: (x > 0).mean() * 100),\n",
        "    Trade_Count=('closed_pnl', 'count')\n",
        ").reset_index()\n",
        "\n",
        "# Merging daily performance with the daily sentiment index value\n",
        "daily_analysis_df = pd.merge(daily_performance, df_sentiment[['date_only', 'value']], left_on='trade_date', right_on='date_only', how='left')\n",
        "\n",
        "# Calculating the correlation matrix\n",
        "correlation_matrix = daily_analysis_df[['value', 'Daily_PnL', 'Daily_Win_Rate_percent', 'Trade_Count']].corr()\n",
        "\n",
        "print(\"\\nCorrelation Matrix of Sentiment Value and Daily Trading Outcomes:\")\n",
        "print(correlation_matrix)\n",
        "print(\"\\n\")\n",
        "\n"
      ],
      "metadata": {
        "colab": {
          "base_uri": "https://localhost:8080/"
        },
        "id": "XMSmfPgQJVby",
        "outputId": "c2bd41d1-3761-41f9-ec20-070e592f6dc6"
      },
      "execution_count": 54,
      "outputs": [
        {
          "output_type": "stream",
          "name": "stdout",
          "text": [
            "\n",
            "Correlation Matrix of Sentiment Value and Daily Trading Outcomes:\n",
            "                           value  Daily_PnL  Daily_Win_Rate_percent  \\\n",
            "value                   1.000000  -0.082642                0.152485   \n",
            "Daily_PnL              -0.082642   1.000000                0.170511   \n",
            "Daily_Win_Rate_percent  0.152485   0.170511                1.000000   \n",
            "Trade_Count            -0.245241   0.360083                0.092548   \n",
            "\n",
            "                        Trade_Count  \n",
            "value                     -0.245241  \n",
            "Daily_PnL                  0.360083  \n",
            "Daily_Win_Rate_percent     0.092548  \n",
            "Trade_Count                1.000000  \n",
            "\n",
            "\n"
          ]
        }
      ]
    },
    {
      "cell_type": "code",
      "source": [
        "# Visualizing the correlation with a heatmap\n",
        "sns.set_style(\"whitegrid\")\n",
        "plt.style.use('seaborn-v0_8-darkgrid')\n",
        "plt.figure(figsize=(10, 8))\n",
        "\n",
        "sns.heatmap(correlation_matrix, annot=True, cmap='coolwarm', fmt=\".2f\",\n",
        "            linewidths=.5, cbar_kws={'label': 'Correlation Coefficient'})\n",
        "plt.title('Correlation Matrix of Sentiment and Trading Outcomes', fontsize=16)\n",
        "\n",
        "# Saving the heatmap\n",
        "plot_filename = os.path.join(output_dir, 'correlation_heatmap.png')\n",
        "plt.savefig(plot_filename)\n",
        "print(f\"Correlation heatmap saved to {plot_filename}\")\n",
        "\n",
        "plt.show()"
      ],
      "metadata": {
        "colab": {
          "base_uri": "https://localhost:8080/",
          "height": 713
        },
        "id": "94ZCVGe_Mnkf",
        "outputId": "59f33119-b957-45d2-dd18-bbfa756e44c5"
      },
      "execution_count": 55,
      "outputs": [
        {
          "output_type": "stream",
          "name": "stdout",
          "text": [
            "Correlation heatmap saved to ds_Aniruddha_Ojha/outputs/correlation_heatmap.png\n"
          ]
        },
        {
          "output_type": "display_data",
          "data": {
            "text/plain": [
              "<Figure size 1000x800 with 2 Axes>"
            ],
            "image/png": "[encoded data removed]"
          },
          "metadata": {}
        }
      ]
    },
    {
      "cell_type": "code",
      "source": [
        "# Visualizing the relationship with a scatter plot.\n",
        "plt.figure(figsize=(10, 6))\n",
        "sns.scatterplot(x='value', y='Daily_PnL', data=daily_analysis_df)\n",
        "plt.title('Daily Total PnL vs. Bitcoin Fear & Greed Index Value', fontsize=16)\n",
        "plt.xlabel('Fear & Greed Index Value (0-100)', fontsize=12)\n",
        "plt.ylabel('Daily Total Closed PnL ($)', fontsize=12)\n",
        "plt.grid(True)\n",
        "\n",
        "# Save the scatter plot\n",
        "plot_filename_scatter = os.path.join(output_dir, 'pnl_vs_sentiment_scatter.png')\n",
        "plt.savefig(plot_filename_scatter)\n",
        "print(f\"Scatter plot saved to {plot_filename_scatter}\")\n",
        "\n",
        "plt.show()"
      ],
      "metadata": {
        "colab": {
          "base_uri": "https://localhost:8080/",
          "height": 579
        },
        "id": "K45YaDyCMuaH",
        "outputId": "e0e5ca5e-5f25-45c1-e04a-78822a3eaac3"
      },
      "execution_count": 56,
      "outputs": [
        {
          "output_type": "stream",
          "name": "stdout",
          "text": [
            "Scatter plot saved to ds_Aniruddha_Ojha/outputs/pnl_vs_sentiment_scatter.png\n"
          ]
        },
        {
          "output_type": "display_data",
          "data": {
            "text/plain": [
              "<Figure size 1000x600 with 1 Axes>"
            ],
            "image/png": "[encoded data removed]"
          },
          "metadata": {}
        }
      ]
    },
    {
      "cell_type": "markdown",
      "source": [
        "### 5. Generating Ranked Trader Lists"
      ],
      "metadata": {
        "id": "XXSZiz0WSmY9"
      }
    },
    {
      "cell_type": "code",
      "source": [
        "# Calculating overall performance metrics for each trader\n",
        "overall_trader_performance = merged_df.groupby('Account').agg(\n",
        "    Total_PnL=('closed_pnl', 'sum'),\n",
        "    Overall_Win_Rate=('closed_pnl', lambda x: (x > 0).mean() * 100),\n",
        "    Total_Trades=('closed_pnl', 'count')\n",
        ").sort_values(by='Total_PnL', ascending=False)\n",
        "\n",
        "# Calculating Gross Profit and Gross Loss for Profit Factor\n",
        "overall_trader_performance['Gross_Profit'] = merged_df[merged_df['closed_pnl'] > 0].groupby('Account')['closed_pnl'].sum()\n",
        "overall_trader_performance['Gross_Loss'] = merged_df[merged_df['closed_pnl'] < 0].groupby('Account')['closed_pnl'].sum().abs()\n",
        "\n",
        "# Calculating Profit Factor, We handle cases with no losses to avoid division by zero\n",
        "overall_trader_performance['Profit_Factor'] = np.where(\n",
        "    overall_trader_performance['Gross_Loss'] == 0,\n",
        "    overall_trader_performance['Gross_Profit'],  # If no losses, Profit Factor is Gross Profit\n",
        "    overall_trader_performance['Gross_Profit'] / overall_trader_performance['Gross_Loss']\n",
        ")\n",
        "overall_trader_performance = overall_trader_performance.fillna(0) # Fill NaNs for traders with no profits"
      ],
      "metadata": {
        "id": "TyAl7LQROSRn"
      },
      "execution_count": 57,
      "outputs": []
    },
    {
      "cell_type": "code",
      "source": [
        "# A. Ranking traders by Best Overall PnL\n",
        "print(\"\\nTop 10 Traders by Best Overall PnL:\")\n",
        "print(overall_trader_performance[['Total_PnL', 'Overall_Win_Rate']].head(10))\n",
        "print(\"\\n\")"
      ],
      "metadata": {
        "colab": {
          "base_uri": "https://localhost:8080/"
        },
        "id": "FWrLxiX7S76Q",
        "outputId": "9af68a9d-5e5e-49c7-abe2-3adf14eaf2df"
      },
      "execution_count": 58,
      "outputs": [
        {
          "output_type": "stream",
          "name": "stdout",
          "text": [
            "\n",
            "Top 10 Traders by Best Overall PnL:\n",
            "                                               Total_PnL  Overall_Win_Rate\n",
            "Account                                                                   \n",
            "0xb1231a4a2dd02f2276fa3c5e2a2f3436e6bfed23  2.143383e+06         33.713432\n",
            "0x083384f897ee0f19899168e3b1bec365f52a9012  1.600230e+06         35.961236\n",
            "0xbaaaf6571ab7d571043ff1e313a9609a10637864  9.401638e+05         46.758211\n",
            "0x513b8629fe877bb581bf244e326a047b249c4ff1  8.404226e+05         40.119320\n",
            "0xbee1707d6b44d4d52bfe19e41f8a828645437aab  8.360806e+05         42.823014\n",
            "0x4acb90e786d897ecffb614dc822eb231b4ffb9f4  6.777471e+05         48.622590\n",
            "0x72743ae2822edd658c0c50608fd7c5c501b2afbd  4.293556e+05         34.591195\n",
            "0x430f09841d65beb3f27765503d0f850b8bce7713  4.165419e+05         48.423605\n",
            "0x72c6a4624e1dffa724e6d00d64ceae698af892a0  4.030115e+05         30.629371\n",
            "0x75f7eeb85dc639d5e99c78f95393aa9a5f1170d4  3.790954e+05         81.087638\n",
            "\n",
            "\n"
          ]
        }
      ]
    },
    {
      "cell_type": "code",
      "source": [
        "# B. Rank traders by Highest Overall Win Rate\n",
        "print(\"Top 10 Traders by Highest Overall Win Rate:\")\n",
        "print(overall_trader_performance.sort_values(by='Overall_Win_Rate', ascending=False)[['Overall_Win_Rate', 'Total_PnL']].head(10))\n",
        "print(\"\\n\")\n"
      ],
      "metadata": {
        "colab": {
          "base_uri": "https://localhost:8080/"
        },
        "id": "tmwwVuMETGFl",
        "outputId": "5009d261-7fb0-4ad1-b043-3c390c7657bf"
      },
      "execution_count": 59,
      "outputs": [
        {
          "output_type": "stream",
          "name": "stdout",
          "text": [
            "Top 10 Traders by Highest Overall Win Rate:\n",
            "                                            Overall_Win_Rate      Total_PnL\n",
            "Account                                                                    \n",
            "0x75f7eeb85dc639d5e99c78f95393aa9a5f1170d4         81.087638  379095.406711\n",
            "0xa520ded057a32086c40e7dd6ed4eb8efb82c00e0         57.314149   72846.484272\n",
            "0x2c229d22b100a7beb69122eed721cee9b24011dd         51.991355  168658.004994\n",
            "0x4acb90e786d897ecffb614dc822eb231b4ffb9f4         48.622590  677747.050643\n",
            "0x430f09841d65beb3f27765503d0f850b8bce7713         48.423605  416541.872341\n",
            "0x3f9a0aadc7f04a7c9d75dc1b5a6ddd6e36486cf6         47.590361   53496.247243\n",
            "0xbaaaf6571ab7d571043ff1e313a9609a10637864         46.758211  940163.806220\n",
            "0x3998f134d6aaa2b6a5f723806d00fd2bbbbce891         45.521472  -31203.599986\n",
            "0x7f4f299f74eec87806a830e3caa9afa5f2b9db8f         45.221296   14900.443047\n",
            "0x23e7a7f8d14b550961925fbfdaa92f5d195ba5bd         44.271978   47885.320514\n",
            "\n",
            "\n"
          ]
        }
      ]
    },
    {
      "cell_type": "code",
      "source": [
        "# C. Rank Top 'Fear' Traders\n",
        "fear_traders = merged_df[merged_df['classification'] == 'Fear']\n",
        "fear_trader_ranking = fear_traders.groupby('Account').agg(\n",
        "    Avg_PnL_in_Fear=('closed_pnl', 'mean'),\n",
        "    Win_Rate_in_Fear=('closed_pnl', lambda x: (x > 0).mean() * 100),\n",
        "    Total_Trades_in_Fear=('closed_pnl', 'count')\n",
        ").sort_values(by='Avg_PnL_in_Fear', ascending=False)\n",
        "\n",
        "print(\"Top 10 'Fear' Traders (by Average PnL in 'Fear' Regime):\")\n",
        "print(fear_trader_ranking.head(10))\n",
        "print(\"\\n\")"
      ],
      "metadata": {
        "colab": {
          "base_uri": "https://localhost:8080/"
        },
        "id": "lIqCb2_-TM0C",
        "outputId": "70cadb0c-33fe-404c-c42f-f1bd574024e4"
      },
      "execution_count": 60,
      "outputs": [
        {
          "output_type": "stream",
          "name": "stdout",
          "text": [
            "Top 10 'Fear' Traders (by Average PnL in 'Fear' Regime):\n",
            "                                            Avg_PnL_in_Fear  Win_Rate_in_Fear  \\\n",
            "Account                                                                         \n",
            "0x420ab45e0bd8863569a5efbb9c05d91f40624641      1016.819167         35.714286   \n",
            "0x083384f897ee0f19899168e3b1bec365f52a9012       626.194346         52.643420   \n",
            "0x72c6a4624e1dffa724e6d00d64ceae698af892a0       335.300103         64.501160   \n",
            "0x4acb90e786d897ecffb614dc822eb231b4ffb9f4       212.594357         40.902579   \n",
            "0xbd5fead7180a9c139fa51a103cb6a2ce86ddb5c3       200.506120         49.872989   \n",
            "0x8170715b3b381dffb7062c0298972d4727a0a63b        86.700707         29.684814   \n",
            "0xae5eacaf9c6b9111fd53034a602c192a04e082ed        66.092200         34.959350   \n",
            "0x513b8629fe877bb581bf244e326a047b249c4ff1        61.388767         37.050660   \n",
            "0x3f9a0aadc7f04a7c9d75dc1b5a6ddd6e36486cf6        53.880498         62.025316   \n",
            "0xbaaaf6571ab7d571043ff1e313a9609a10637864        49.921394         49.827129   \n",
            "\n",
            "                                            Total_Trades_in_Fear  \n",
            "Account                                                           \n",
            "0x420ab45e0bd8863569a5efbb9c05d91f40624641                    98  \n",
            "0x083384f897ee0f19899168e3b1bec365f52a9012                  1778  \n",
            "0x72c6a4624e1dffa724e6d00d64ceae698af892a0                   431  \n",
            "0x4acb90e786d897ecffb614dc822eb231b4ffb9f4                  1396  \n",
            "0xbd5fead7180a9c139fa51a103cb6a2ce86ddb5c3                  1181  \n",
            "0x8170715b3b381dffb7062c0298972d4727a0a63b                  1745  \n",
            "0xae5eacaf9c6b9111fd53034a602c192a04e082ed                   123  \n",
            "0x513b8629fe877bb581bf244e326a047b249c4ff1                  5981  \n",
            "0x3f9a0aadc7f04a7c9d75dc1b5a6ddd6e36486cf6                    79  \n",
            "0xbaaaf6571ab7d571043ff1e313a9609a10637864                 12437  \n",
            "\n",
            "\n"
          ]
        }
      ]
    },
    {
      "cell_type": "code",
      "source": [
        "# D. Rank traders by Highest Profit Factor\n",
        "print(\"Top 10 Traders by Highest Profit Factor:\")\n",
        "print(overall_trader_performance.sort_values(by='Profit_Factor', ascending=False)[['Profit_Factor', 'Total_PnL', 'Overall_Win_Rate']].head(10))\n",
        "print(\"\\n\")\n",
        "\n",
        "# Save the complete ranked list to a CSV file\n",
        "ranked_traders_filename = os.path.join(csv_dir, 'ranked_traders_full.csv')\n",
        "overall_trader_performance.to_csv(ranked_traders_filename)\n",
        "print(f\"Full ranked trader list saved to {ranked_traders_filename}\")"
      ],
      "metadata": {
        "colab": {
          "base_uri": "https://localhost:8080/"
        },
        "id": "va8KbbA_THCw",
        "outputId": "1d50e513-05cc-4f01-e5a0-7ffbfea6aefe"
      },
      "execution_count": 61,
      "outputs": [
        {
          "output_type": "stream",
          "name": "stdout",
          "text": [
            "Top 10 Traders by Highest Profit Factor:\n",
            "                                            Profit_Factor     Total_PnL  \\\n",
            "Account                                                                   \n",
            "0xbaaaf6571ab7d571043ff1e313a9609a10637864   27208.369847  9.401638e+05   \n",
            "0x6d6a4b953f202f8df5bed40692e7fd865318264a    1162.626156  1.087312e+05   \n",
            "0x92f17e8d81a944691c10e753af1b1baae1a2cd0d     191.401725  1.265789e+05   \n",
            "0x4acb90e786d897ecffb614dc822eb231b4ffb9f4      52.804609  6.777471e+05   \n",
            "0xb1231a4a2dd02f2276fa3c5e2a2f3436e6bfed23      36.095616  2.143383e+06   \n",
            "0x2c229d22b100a7beb69122eed721cee9b24011dd      14.959188  1.686580e+05   \n",
            "0x8381e6d82f1affd39a336e143e081ef7620a3b7f      12.641429  6.551366e+04   \n",
            "0xa0feb3725a9335f49874d7cd8eaad6be45b27416      11.471318  1.063029e+05   \n",
            "0x72c6a4624e1dffa724e6d00d64ceae698af892a0      10.274502  4.030115e+05   \n",
            "0x75f7eeb85dc639d5e99c78f95393aa9a5f1170d4       8.604447  3.790954e+05   \n",
            "\n",
            "                                            Overall_Win_Rate  \n",
            "Account                                                       \n",
            "0xbaaaf6571ab7d571043ff1e313a9609a10637864         46.758211  \n",
            "0x6d6a4b953f202f8df5bed40692e7fd865318264a         43.179487  \n",
            "0x92f17e8d81a944691c10e753af1b1baae1a2cd0d         28.538663  \n",
            "0x4acb90e786d897ecffb614dc822eb231b4ffb9f4         48.622590  \n",
            "0xb1231a4a2dd02f2276fa3c5e2a2f3436e6bfed23         33.713432  \n",
            "0x2c229d22b100a7beb69122eed721cee9b24011dd         51.991355  \n",
            "0x8381e6d82f1affd39a336e143e081ef7620a3b7f         33.019362  \n",
            "0xa0feb3725a9335f49874d7cd8eaad6be45b27416         34.578661  \n",
            "0x72c6a4624e1dffa724e6d00d64ceae698af892a0         30.629371  \n",
            "0x75f7eeb85dc639d5e99c78f95393aa9a5f1170d4         81.087638  \n",
            "\n",
            "\n",
            "Full ranked trader list saved to ds_Aniruddha_Ojha/csv_files/ranked_traders_full.csv\n"
          ]
        }
      ]
    },
    {
      "cell_type": "markdown",
      "source": [
        "### Exporting Entire Directory"
      ],
      "metadata": {
        "id": "G2Cb3aVVRsuL"
      }
    },
    {
      "cell_type": "code",
      "source": [
        "# Zipping the entire root_dir\n",
        "shutil.make_archive(root_dir, 'zip', root_dir)\n",
        "\n",
        "print(f\"Zipped folder created: {root_dir}.zip\")\n",
        "\n",
        "# Downloading the zip folder from Colab\n",
        "from google.colab import files\n",
        "files.download(f\"{root_dir}.zip\")"
      ],
      "metadata": {
        "colab": {
          "base_uri": "https://localhost:8080/",
          "height": 34
        },
        "id": "Wfkd3uP9TfSZ",
        "outputId": "509f23aa-af57-4226-c713-7ed48d93023b"
      },
      "execution_count": 64,
      "outputs": [
        {
          "output_type": "stream",
          "name": "stdout",
          "text": [
            "Zipped folder created: ds_Aniruddha_Ojha.zip\n"
          ]
        },
        {
          "output_type": "display_data",
          "data": {
            "text/plain": [
              "<IPython.core.display.Javascript object>"
            ],
            "application/javascript": [
              "\n",
              "    async function download(id, filename, size) {\n",
              "      if (!google.colab.kernel.accessAllowed) {\n",
              "        return;\n",
              "      }\n",
              "      const div = document.createElement('div');\n",
              "      const label = document.createElement('label');\n",
              "      label.textContent = `Downloading \"${filename}\": `;\n",
              "      div.appendChild(label);\n",
              "      const progress = document.createElement('progress');\n",
              "      progress.max = size;\n",
              "      div.appendChild(progress);\n",
              "      document.body.appendChild(div);\n",
              "\n",
              "      const buffers = [];\n",
              "      let downloaded = 0;\n",
              "\n",
              "      const channel = await google.colab.kernel.comms.open(id);\n",
              "      // Send a message to notify the kernel that we're ready.\n",
              "      channel.send({})\n",
              "\n",
              "      for await (const message of channel.messages) {\n",
              "        // Send a message to notify the kernel that we're ready.\n",
              "        channel.send({})\n",
              "        if (message.buffers) {\n",
              "          for (const buffer of message.buffers) {\n",
              "            buffers.push(buffer);\n",
              "            downloaded += buffer.byteLength;\n",
              "            progress.value = downloaded;\n",
              "          }\n",
              "        }\n",
              "      }\n",
              "      const blob = new Blob(buffers, {type: 'application/binary'});\n",
              "      const a = document.createElement('a');\n",
              "      a.href = window.URL.createObjectURL(blob);\n",
              "      a.download = filename;\n",
              "      div.appendChild(a);\n",
              "      a.click();\n",
              "      div.remove();\n",
              "    }\n",
              "  "
            ]
          },
          "metadata": {}
        },
        {
          "output_type": "display_data",
          "data": {
            "text/plain": [
              "<IPython.core.display.Javascript object>"
            ],
            "application/javascript": [
              "download(\"download_29d24b04-0b90-4e98-9198-b988e81dfee7\", \"ds_Aniruddha_Ojha.zip\", 19544699)"
            ]
          },
          "metadata": {}
        }
      ]
    }
  ]
}